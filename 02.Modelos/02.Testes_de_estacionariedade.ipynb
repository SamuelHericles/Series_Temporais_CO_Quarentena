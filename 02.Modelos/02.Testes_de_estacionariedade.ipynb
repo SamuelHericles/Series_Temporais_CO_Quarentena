{
 "cells": [
  {
   "cell_type": "markdown",
   "metadata": {},
   "source": [
    "Este notebook foi para verificar se a série temporal possui tendência ou não usando o teste de estacionariedade de adfuller, funciona assim:\n",
    "\n",
    "    Se o valor do teste estatístico for maior que os valores crítico para 1%, 5% ou 10% nos mostra que há tendência nos dados. Sendo sincero eu não utilizei esta informações, mas futuramente posso utilizá-lo. Contudo é interessante também falar sobre o p-value, pois para muito ele ser menor que 0.05 quer dizer muita coisa para um teste binário, porém, é bom ter cuidado sobre ele pois pode lhe dar descições erradas sobre sua hipótese porque em 2016 a American Statistical Association apontou cuidados sobre este valor:\n",
    "    \n",
    "    + Os valores p podem indicar o quanto os dados são incompatíveis com um modelo estatísitico específico;\n",
    "    \n",
    "    + Os valores p não medem a probabilidade de a hipótese estudada ser verdade ou a probabilidade de os dados terem sido produzidos apena pelo acaso;\n",
    "    \n",
    "    + Conclusões científica e decisões empresariais ou políticas não devem se basear apenas no fato de um valor p execeder um limiar específico;\n",
    "    \n",
    "    + A interferância adequada exige informações completas e transparência;\n",
    "    \n",
    "    + Um valor p, ou significância estatística, não mede o tamanho de um efeito ou a importância de um resultado;\n",
    "    \n",
    "    + Sozinho, um valor p não oferece uma boa medição das evidências no que diz respeito a um modelo ou hipótese.\n",
    "    \n",
    "    \n",
    "Texto retirado do livro Estatística Prática para cientista de dados (O'REILLY) -> https://www.amazon.com.br/Estat%C3%ADstica-Pr%C3%A1tica-Para-Cientistas-Dados/dp/855080603X"
   ]
  },
  {
   "cell_type": "markdown",
   "metadata": {},
   "source": [
    "# 1. Imports necessários"
   ]
  },
  {
   "cell_type": "code",
   "execution_count": 14,
   "metadata": {},
   "outputs": [],
   "source": [
    "import pandas as pd\n",
    "import numpy as np\n",
    "\n",
    "import metodos_imputacao as m_imputacao\n",
    "import funcoes_importantes as f_im\n",
    "fi = f_im.funcoes_importantes()\n",
    "mimputacao = m_imputacao.metodos_de_imputacao()"
   ]
  },
  {
   "cell_type": "markdown",
   "metadata": {},
   "source": [
    "# 2. Upload das base de dados"
   ]
  },
  {
   "cell_type": "code",
   "execution_count": 15,
   "metadata": {},
   "outputs": [],
   "source": [
    "# Bases de Cerqueira Cesar \n",
    "\n",
    "ccesar_16 = pd.read_csv('../01.Dados/CSV/CO_Cerqueria_2016.csv').reset_index(drop=True).iloc[:-1,:]\n",
    "ccesar_17 = pd.read_csv('../01.Dados/CSV/CO_Cerqueria_2017.csv')\n",
    "ccesar_18 = pd.read_csv('../01.Dados/CSV/CO_Cerqueria_2018.csv')\n",
    "ccesar_19 = pd.read_csv('../01.Dados/CSV/CO_Cerqueria_2019.csv')\n",
    "ccesar_20 = pd.read_csv('../01.Dados/CSV/CO_Cerqueria_2020.csv').reset_index(drop=True).iloc[:-1,:]\n",
    "\n",
    "# Base de Congonhas\n",
    "\n",
    "congonhas_16 = pd.read_csv('../01.Dados/CSV/CO_Congonhas_2016.csv').reset_index(drop=True).iloc[:-1,:]\n",
    "congonhas_17 = pd.read_csv('../01.Dados/CSV/CO_Congonhas_2017.csv')\n",
    "congonhas_18 = pd.read_csv('../01.Dados/CSV/CO_Congonhas_2018.csv')\n",
    "congonhas_19 = pd.read_csv('../01.Dados/CSV/CO_Congonhas_2019.csv')\n",
    "congonhas_20 = pd.read_csv('../01.Dados/CSV/CO_Congonhas_2020.csv').reset_index(drop=True).iloc[:-1,:]\n",
    "\n",
    "# Base de Mooca\n",
    "\n",
    "mooca_16 = pd.read_csv('../01.Dados/CSV/CO_Mooca_2016.csv').reset_index(drop=True).iloc[:-1,:]\n",
    "mooca_17 = pd.read_csv('../01.Dados/CSV/CO_Mooca_2017.csv')\n",
    "mooca_18 = pd.read_csv('../01.Dados/CSV/CO_Mooca_2018.csv')\n",
    "mooca_19 = pd.read_csv('../01.Dados/CSV/CO_Mooca_2019.csv')\n",
    "mooca_20 = pd.read_csv('../01.Dados/CSV/CO_Mooca_2020.csv').reset_index(drop=True).iloc[:-1,:]\n",
    "\n",
    "# Base Parque Pedro II\n",
    "\n",
    "ppredo_16 = pd.read_csv('../01.Dados/CSV/CO_P_Pedro_2016.csv').reset_index(drop=True).iloc[:-1,:]\n",
    "ppredo_17 = pd.read_csv('../01.Dados/CSV/CO_P_Pedro_2017.csv')\n",
    "ppredo_18 = pd.read_csv('../01.Dados/CSV/CO_P_Pedro_2018.csv')\n",
    "ppredo_19 = pd.read_csv('../01.Dados/CSV/CO_P_Pedro_2019.csv')\n",
    "ppredo_20 = pd.read_csv('../01.Dados/CSV/CO_P_Pedro_2020.csv').reset_index(drop=True).iloc[:-1,:]\n",
    "\n",
    "# Base Pinheiros \n",
    "\n",
    "pinheiros_16 = pd.read_csv('../01.Dados/CSV/CO_Pinheiros_2016.csv').reset_index(drop=True).iloc[:-1,:]\n",
    "pinheiros_17 = pd.read_csv('../01.Dados/CSV/CO_Pinheiros_2017.csv')\n",
    "pinheiros_18 = pd.read_csv('../01.Dados/CSV/CO_Pinheiros_2018.csv')\n",
    "pinheiros_19 = pd.read_csv('../01.Dados/CSV/CO_Pinheiros_2019.csv')\n",
    "pinheiros_20 = pd.read_csv('../01.Dados/CSV/CO_Pinheiros_2020.csv').reset_index(drop=True).iloc[:-1,:]"
   ]
  },
  {
   "cell_type": "markdown",
   "metadata": {},
   "source": [
    "# 3.Tratamento de dados Faltantes"
   ]
  },
  {
   "cell_type": "markdown",
   "metadata": {},
   "source": [
    "# 3.1 Base de Cerqueira Cesar"
   ]
  },
  {
   "cell_type": "code",
   "execution_count": 27,
   "metadata": {},
   "outputs": [],
   "source": [
    "ccesar_16,a,b,c = mimputacao.completa_serie_EM(ccesar_16)\n",
    "ccesar_17,a,b,c = mimputacao.completa_serie_EM(ccesar_17)\n",
    "ccesar_18,a,b,c = mimputacao.completa_serie_EM(ccesar_18)\n",
    "ccesar_19,a,b,c = mimputacao.completa_serie_EM(ccesar_19)\n",
    "ccesar_20,a,b,c = mimputacao.completa_serie_EM(ccesar_20)"
   ]
  },
  {
   "cell_type": "markdown",
   "metadata": {},
   "source": [
    "# 3.2 Base de Congonhas"
   ]
  },
  {
   "cell_type": "code",
   "execution_count": 16,
   "metadata": {},
   "outputs": [],
   "source": [
    "mes_null = pd.DataFrame([[np.nan]*24 for i in range(365-pinheiros_16.shape[0])], columns=[str(i) for i in range(1,25)])\n",
    "pinheiros_16 = pd.concat([pinheiros_16, mes_null], axis='rows')"
   ]
  },
  {
   "cell_type": "code",
   "execution_count": 17,
   "metadata": {},
   "outputs": [],
   "source": [
    "raio_congonhas = [7.3,7,8.73]\n",
    "Congonhas_16 = [congonhas_16,pinheiros_16,ccesar_16,ppredo_16]\n",
    "Congonhas_17 = [congonhas_17,pinheiros_17,ccesar_17,ppredo_17]\n",
    "Congonhas_18 = [congonhas_18,pinheiros_18,ccesar_18,ppredo_18]\n",
    "Congonhas_19 = [congonhas_19,pinheiros_19,ccesar_19,ppredo_19]\n",
    "Congonhas_20 = [congonhas_20,pinheiros_20,ccesar_20,ppredo_20]\n",
    "\n",
    "congonhas_16,a,b,c = mimputacao.completa_serie_IID(Congonhas_16,raio_congonhas)\n",
    "congonhas_17,a,b,c = mimputacao.completa_serie_IID(Congonhas_17,raio_congonhas)\n",
    "congonhas_18,a,b,c = mimputacao.completa_serie_IID(Congonhas_18,raio_congonhas)\n",
    "congonhas_19,a,b,c = mimputacao.completa_serie_IID(Congonhas_19,raio_congonhas)\n",
    "congonhas_20,a,b,c = mimputacao.completa_serie_IID(Congonhas_20,raio_congonhas)"
   ]
  },
  {
   "cell_type": "markdown",
   "metadata": {},
   "source": [
    "# 3.3 Base de Mooca"
   ]
  },
  {
   "cell_type": "code",
   "execution_count": 18,
   "metadata": {},
   "outputs": [],
   "source": [
    "mooca_16,a,b,c = mimputacao.completa_serie_EM(mooca_16)\n",
    "mooca_17,a,b,c = mimputacao.completa_serie_EM(mooca_17)\n",
    "mooca_18,a,b,c = mimputacao.completa_serie_EM(mooca_18)\n",
    "mooca_19,a,b,c = mimputacao.completa_serie_EM(mooca_19)\n",
    "mooca_20,a,b,c = mimputacao.completa_serie_EM(mooca_20)"
   ]
  },
  {
   "cell_type": "markdown",
   "metadata": {},
   "source": [
    "# 3.4 Base Parque Pedro II"
   ]
  },
  {
   "cell_type": "code",
   "execution_count": 19,
   "metadata": {},
   "outputs": [],
   "source": [
    "raio_parque_pedro_II = [2.81,4.68,7.73,8.71]\n",
    "Parque_Pedro_II_16 = [ppredo_16,mooca_16,ccesar_16,pinheiros_16,congonhas_16]\n",
    "Parque_Pedro_II_17 = [ppredo_17,mooca_17,ccesar_17,pinheiros_17,congonhas_17]\n",
    "Parque_Pedro_II_18 = [ppredo_18,mooca_18,ccesar_18,pinheiros_18,congonhas_18]\n",
    "Parque_Pedro_II_19 = [ppredo_19,mooca_19,ccesar_19,pinheiros_19,congonhas_19]\n",
    "Parque_Pedro_II_20 = [ppredo_20,mooca_20,ccesar_20,pinheiros_20,congonhas_20]\n",
    "\n",
    "ppredo_16,a,b,c = mimputacao.completa_serie_IID(Parque_Pedro_II_16,raio_parque_pedro_II)\n",
    "ppredo_17,a,b,c = mimputacao.completa_serie_IID(Parque_Pedro_II_17,raio_parque_pedro_II)\n",
    "ppredo_18,a,b,c = mimputacao.completa_serie_IID(Parque_Pedro_II_18,raio_parque_pedro_II)\n",
    "ppredo_19,a,b,c = mimputacao.completa_serie_IID(Parque_Pedro_II_19,raio_parque_pedro_II)\n",
    "ppredo_20,a,b,c = mimputacao.completa_serie_IID(Parque_Pedro_II_20,raio_parque_pedro_II)"
   ]
  },
  {
   "cell_type": "markdown",
   "metadata": {},
   "source": [
    "# 3.5 Base Pinheiros "
   ]
  },
  {
   "cell_type": "code",
   "execution_count": 20,
   "metadata": {},
   "outputs": [],
   "source": [
    "pinheiros_16,a,b,c = mimputacao.completa_serie_EM(pinheiros_16)\n",
    "pinheiros_17,a,b,c = mimputacao.completa_serie_EM(pinheiros_17)\n",
    "pinheiros_18,a,b,c = mimputacao.completa_serie_EM(pinheiros_18)\n",
    "pinheiros_19,a,b,c = mimputacao.completa_serie_EM(pinheiros_19)\n",
    "pinheiros_20,a,b,c = mimputacao.completa_serie_EM(pinheiros_20)"
   ]
  },
  {
   "cell_type": "markdown",
   "metadata": {},
   "source": [
    "# 4. Teste de estacionariedade das séries"
   ]
  },
  {
   "cell_type": "markdown",
   "metadata": {},
   "source": [
    "## 4.1 Estação Cerqueria"
   ]
  },
  {
   "cell_type": "code",
   "execution_count": 28,
   "metadata": {},
   "outputs": [
    {
     "name": "stdout",
     "output_type": "stream",
     "text": [
      "****************************************************************************************************\n",
      "************************************************** 2016 *******************************************\n",
      "****************************************************************************************************\n",
      "Resultados do teste Dickey Fuller:\n",
      "Teste estatístico                -3.093575\n",
      "p-value                           0.027032\n",
      "#Lags Usados                     13.000000\n",
      "Número de observações usadas    351.000000\n",
      "Valores críticos (1%)            -3.449119\n",
      "Valores críticos (5%)            -2.869810\n",
      "Valores críticos (10%)           -2.571176\n",
      "dtype: float64\n",
      "None\n",
      "****************************************************************************************************\n",
      "************************************************** 2017 *******************************************\n",
      "****************************************************************************************************\n",
      "Resultados do teste Dickey Fuller:\n",
      "Teste estatístico                -4.824863\n",
      "p-value                           0.000049\n",
      "#Lags Usados                      6.000000\n",
      "Número de observações usadas    358.000000\n",
      "Valores críticos (1%)            -3.448749\n",
      "Valores críticos (5%)            -2.869647\n",
      "Valores críticos (10%)           -2.571089\n",
      "dtype: float64\n",
      "None\n",
      "****************************************************************************************************\n",
      "************************************************** 2018 *******************************************\n",
      "****************************************************************************************************\n",
      "Resultados do teste Dickey Fuller:\n",
      "Teste estatístico              -1.021817e+01\n",
      "p-value                         5.412012e-18\n",
      "#Lags Usados                    1.000000e+00\n",
      "Número de observações usadas    3.630000e+02\n",
      "Valores críticos (1%)          -3.448494e+00\n",
      "Valores críticos (5%)          -2.869535e+00\n",
      "Valores críticos (10%)         -2.571029e+00\n",
      "dtype: float64\n",
      "None\n",
      "****************************************************************************************************\n",
      "************************************************** 2019 *******************************************\n",
      "****************************************************************************************************\n",
      "Resultados do teste Dickey Fuller:\n",
      "Teste estatístico                -4.292021\n",
      "p-value                           0.000459\n",
      "#Lags Usados                      7.000000\n",
      "Número de observações usadas    357.000000\n",
      "Valores críticos (1%)            -3.448801\n",
      "Valores críticos (5%)            -2.869670\n",
      "Valores críticos (10%)           -2.571101\n",
      "dtype: float64\n",
      "None\n",
      "****************************************************************************************************\n",
      "************************************************** 2020 *******************************************\n",
      "****************************************************************************************************\n",
      "Resultados do teste Dickey Fuller:\n",
      "Teste estatístico              -7.341459e+00\n",
      "p-value                         1.062487e-10\n",
      "#Lags Usados                    2.000000e+00\n",
      "Número de observações usadas    3.620000e+02\n",
      "Valores críticos (1%)          -3.448544e+00\n",
      "Valores críticos (5%)          -2.869557e+00\n",
      "Valores críticos (10%)         -2.571041e+00\n",
      "dtype: float64\n",
      "None\n"
     ]
    }
   ],
   "source": [
    "fi.testar_series([ccesar_16,ccesar_17,ccesar_18,ccesar_19,ccesar_20])"
   ]
  },
  {
   "cell_type": "markdown",
   "metadata": {},
   "source": [
    "Aqui conclui que:\n",
    "+ A base Cerqueira Cesar no ano de 2016 **não possui tendência**;\n",
    "+ A base Cerqueira Cesar no ano de 2017 **não possui tendência**;\n",
    "+ A base Cerqueira Cesar no ano de 2018 **não possui tendência**;\n",
    "+ A base Cerqueira Cesar no ano de 2019 **não possui tendência**;\n",
    "+ A base Cerqueira Cesar no ano de 2020 **não possui tendência**;"
   ]
  },
  {
   "cell_type": "markdown",
   "metadata": {},
   "source": [
    "## 4.2 Estação Congonhas"
   ]
  },
  {
   "cell_type": "code",
   "execution_count": 23,
   "metadata": {},
   "outputs": [
    {
     "name": "stdout",
     "output_type": "stream",
     "text": [
      "****************************************************************************************************\n",
      "************************************************** 2016 *******************************************\n",
      "****************************************************************************************************\n",
      "Resultados do teste Dickey Fuller:\n",
      "Teste estatístico                -1.800512\n",
      "p-value                           0.380207\n",
      "#Lags Usados                     17.000000\n",
      "Número de observações usadas    347.000000\n",
      "Valores críticos (1%)            -3.449337\n",
      "Valores críticos (5%)            -2.869906\n",
      "Valores críticos (10%)           -2.571227\n",
      "dtype: float64\n",
      "None\n",
      "****************************************************************************************************\n",
      "************************************************** 2017 *******************************************\n",
      "****************************************************************************************************\n",
      "Resultados do teste Dickey Fuller:\n",
      "Teste estatístico                -2.512946\n",
      "p-value                           0.112356\n",
      "#Lags Usados                     15.000000\n",
      "Número de observações usadas    349.000000\n",
      "Valores críticos (1%)            -3.449227\n",
      "Valores críticos (5%)            -2.869857\n",
      "Valores críticos (10%)           -2.571201\n",
      "dtype: float64\n",
      "None\n",
      "****************************************************************************************************\n",
      "************************************************** 2018 *******************************************\n",
      "****************************************************************************************************\n",
      "Resultados do teste Dickey Fuller:\n",
      "Teste estatístico                -3.752086\n",
      "p-value                           0.003437\n",
      "#Lags Usados                      6.000000\n",
      "Número de observações usadas    358.000000\n",
      "Valores críticos (1%)            -3.448749\n",
      "Valores críticos (5%)            -2.869647\n",
      "Valores críticos (10%)           -2.571089\n",
      "dtype: float64\n",
      "None\n",
      "****************************************************************************************************\n",
      "************************************************** 2019 *******************************************\n",
      "****************************************************************************************************\n",
      "Resultados do teste Dickey Fuller:\n",
      "Teste estatístico              -1.002383e+01\n",
      "p-value                         1.651963e-17\n",
      "#Lags Usados                    1.000000e+00\n",
      "Número de observações usadas    3.630000e+02\n",
      "Valores críticos (1%)          -3.448494e+00\n",
      "Valores críticos (5%)          -2.869535e+00\n",
      "Valores críticos (10%)         -2.571029e+00\n",
      "dtype: float64\n",
      "None\n",
      "****************************************************************************************************\n",
      "************************************************** 2020 *******************************************\n",
      "****************************************************************************************************\n",
      "Resultados do teste Dickey Fuller:\n",
      "Teste estatístico                -2.648861\n",
      "p-value                           0.083313\n",
      "#Lags Usados                     12.000000\n",
      "Número de observações usadas    352.000000\n",
      "Valores críticos (1%)            -3.449065\n",
      "Valores críticos (5%)            -2.869786\n",
      "Valores críticos (10%)           -2.571163\n",
      "dtype: float64\n",
      "None\n"
     ]
    }
   ],
   "source": [
    "fi.testar_series([congonhas_16,congonhas_17,congonhas_18,congonhas_19,congonhas_20])"
   ]
  },
  {
   "cell_type": "markdown",
   "metadata": {},
   "source": [
    "Aqui conclui que:\n",
    "+ A base Congonhas no ano de 2016 **não possui tendência**;\n",
    "+ A base Congonhas no ano de 2017 **possui tendência**;\n",
    "+ A base Congonhas no ano de 2018 **possui tendência**;\n",
    "+ A base Congonhas no ano de 2019 **não possui tendência**;\n",
    "+ A base Congonhas no ano de 2020 **possui tendência**;"
   ]
  },
  {
   "cell_type": "markdown",
   "metadata": {},
   "source": [
    "## 4.3 Estação Mooca"
   ]
  },
  {
   "cell_type": "code",
   "execution_count": 24,
   "metadata": {},
   "outputs": [
    {
     "name": "stdout",
     "output_type": "stream",
     "text": [
      "****************************************************************************************************\n",
      "************************************************** 2016 *******************************************\n",
      "****************************************************************************************************\n",
      "Resultados do teste Dickey Fuller:\n",
      "Teste estatístico              -1.068181e+01\n",
      "p-value                         3.922837e-19\n",
      "#Lags Usados                    0.000000e+00\n",
      "Número de observações usadas    3.640000e+02\n",
      "Valores críticos (1%)          -3.448443e+00\n",
      "Valores críticos (5%)          -2.869513e+00\n",
      "Valores críticos (10%)         -2.571018e+00\n",
      "dtype: float64\n",
      "None\n",
      "****************************************************************************************************\n",
      "************************************************** 2017 *******************************************\n",
      "****************************************************************************************************\n",
      "Resultados do teste Dickey Fuller:\n",
      "Teste estatístico                -3.218276\n",
      "p-value                           0.018951\n",
      "#Lags Usados                     10.000000\n",
      "Número de observações usadas    354.000000\n",
      "Valores críticos (1%)            -3.448958\n",
      "Valores críticos (5%)            -2.869739\n",
      "Valores críticos (10%)           -2.571138\n",
      "dtype: float64\n",
      "None\n",
      "****************************************************************************************************\n",
      "************************************************** 2018 *******************************************\n",
      "****************************************************************************************************\n",
      "Resultados do teste Dickey Fuller:\n",
      "Teste estatístico                -3.345502\n",
      "p-value                           0.012963\n",
      "#Lags Usados                      9.000000\n",
      "Número de observações usadas    355.000000\n",
      "Valores críticos (1%)            -3.448906\n",
      "Valores críticos (5%)            -2.869716\n",
      "Valores críticos (10%)           -2.571126\n",
      "dtype: float64\n",
      "None\n",
      "****************************************************************************************************\n",
      "************************************************** 2019 *******************************************\n",
      "****************************************************************************************************\n",
      "Resultados do teste Dickey Fuller:\n",
      "Teste estatístico                -2.029452\n",
      "p-value                           0.273811\n",
      "#Lags Usados                     10.000000\n",
      "Número de observações usadas    354.000000\n",
      "Valores críticos (1%)            -3.448958\n",
      "Valores críticos (5%)            -2.869739\n",
      "Valores críticos (10%)           -2.571138\n",
      "dtype: float64\n",
      "None\n",
      "****************************************************************************************************\n",
      "************************************************** 2020 *******************************************\n",
      "****************************************************************************************************\n",
      "Resultados do teste Dickey Fuller:\n",
      "Teste estatístico              -8.319712e+00\n",
      "p-value                         3.600046e-13\n",
      "#Lags Usados                    2.000000e+00\n",
      "Número de observações usadas    3.620000e+02\n",
      "Valores críticos (1%)          -3.448544e+00\n",
      "Valores críticos (5%)          -2.869557e+00\n",
      "Valores críticos (10%)         -2.571041e+00\n",
      "dtype: float64\n",
      "None\n"
     ]
    }
   ],
   "source": [
    "fi.testar_series([mooca_16,mooca_17,mooca_18,mooca_19,mooca_20])"
   ]
  },
  {
   "cell_type": "markdown",
   "metadata": {},
   "source": [
    "Aqui conclui que:\n",
    "+ A base Mooca no ano de 2016 **não possui tendência**;\n",
    "+ A base Mooca no ano de 2017 **possui tendência**;\n",
    "+ A base Mooca no ano de 2018 **não possui tendência**;\n",
    "+ A base Mooca no ano de 2019 **possui tendência**;\n",
    "+ A base Mooca no ano de 2020 **não possui tendência**;"
   ]
  },
  {
   "cell_type": "markdown",
   "metadata": {},
   "source": [
    "## 4.4 Estação Parque Pedro II"
   ]
  },
  {
   "cell_type": "code",
   "execution_count": 25,
   "metadata": {},
   "outputs": [
    {
     "name": "stdout",
     "output_type": "stream",
     "text": [
      "****************************************************************************************************\n",
      "************************************************** 2016 *******************************************\n",
      "****************************************************************************************************\n",
      "Resultados do teste Dickey Fuller:\n",
      "Teste estatístico                -1.958201\n",
      "p-value                           0.305196\n",
      "#Lags Usados                     16.000000\n",
      "Número de observações usadas    348.000000\n",
      "Valores críticos (1%)            -3.449282\n",
      "Valores críticos (5%)            -2.869881\n",
      "Valores críticos (10%)           -2.571214\n",
      "dtype: float64\n",
      "None\n",
      "****************************************************************************************************\n",
      "************************************************** 2017 *******************************************\n",
      "****************************************************************************************************\n",
      "Resultados do teste Dickey Fuller:\n",
      "Teste estatístico                -4.647817\n",
      "p-value                           0.000105\n",
      "#Lags Usados                      5.000000\n",
      "Número de observações usadas    359.000000\n",
      "Valores críticos (1%)            -3.448697\n",
      "Valores críticos (5%)            -2.869625\n",
      "Valores críticos (10%)           -2.571077\n",
      "dtype: float64\n",
      "None\n",
      "****************************************************************************************************\n",
      "************************************************** 2018 *******************************************\n",
      "****************************************************************************************************\n",
      "Resultados do teste Dickey Fuller:\n",
      "Teste estatístico                -5.252557\n",
      "p-value                           0.000007\n",
      "#Lags Usados                      4.000000\n",
      "Número de observações usadas    360.000000\n",
      "Valores críticos (1%)            -3.448646\n",
      "Valores críticos (5%)            -2.869602\n",
      "Valores críticos (10%)           -2.571065\n",
      "dtype: float64\n",
      "None\n",
      "****************************************************************************************************\n",
      "************************************************** 2019 *******************************************\n",
      "****************************************************************************************************\n",
      "Resultados do teste Dickey Fuller:\n",
      "Teste estatístico                -2.129855\n",
      "p-value                           0.232680\n",
      "#Lags Usados                     15.000000\n",
      "Número de observações usadas    349.000000\n",
      "Valores críticos (1%)            -3.449227\n",
      "Valores críticos (5%)            -2.869857\n",
      "Valores críticos (10%)           -2.571201\n",
      "dtype: float64\n",
      "None\n",
      "****************************************************************************************************\n",
      "************************************************** 2020 *******************************************\n",
      "****************************************************************************************************\n",
      "Resultados do teste Dickey Fuller:\n",
      "Teste estatístico                -2.465349\n",
      "p-value                           0.124135\n",
      "#Lags Usados                     12.000000\n",
      "Número de observações usadas    352.000000\n",
      "Valores críticos (1%)            -3.449065\n",
      "Valores críticos (5%)            -2.869786\n",
      "Valores críticos (10%)           -2.571163\n",
      "dtype: float64\n",
      "None\n"
     ]
    }
   ],
   "source": [
    "fi.testar_series([ppredo_16,ppredo_17,ppredo_18,ppredo_19,ppredo_20])"
   ]
  },
  {
   "cell_type": "markdown",
   "metadata": {},
   "source": [
    "Aqui conclui que:\n",
    "+ A base Parque Pedro II no ano de 2016 **possui tendência**;\n",
    "+ A base Parque Pedro II no ano de 2017 **possui tendência**;\n",
    "+ A base Parque Pedro II no ano de 2018 **não possui tendência**;\n",
    "+ A base Parque Pedro II no ano de 2019 **possui tendência**;\n",
    "+ A base Parque Pedro II no ano de 2020 **possui tendência**;"
   ]
  },
  {
   "cell_type": "markdown",
   "metadata": {},
   "source": [
    "## 4.5 Estação Pinheiros"
   ]
  },
  {
   "cell_type": "code",
   "execution_count": 26,
   "metadata": {},
   "outputs": [
    {
     "name": "stdout",
     "output_type": "stream",
     "text": [
      "****************************************************************************************************\n",
      "************************************************** 2016 *******************************************\n",
      "****************************************************************************************************\n",
      "Resultados do teste Dickey Fuller:\n",
      "Teste estatístico                -2.766820\n",
      "p-value                           0.063172\n",
      "#Lags Usados                      8.000000\n",
      "Número de observações usadas    356.000000\n",
      "Valores críticos (1%)            -3.448853\n",
      "Valores críticos (5%)            -2.869693\n",
      "Valores críticos (10%)           -2.571114\n",
      "dtype: float64\n",
      "None\n",
      "****************************************************************************************************\n",
      "************************************************** 2017 *******************************************\n",
      "****************************************************************************************************\n",
      "Resultados do teste Dickey Fuller:\n",
      "Teste estatístico                -5.163544\n",
      "p-value                           0.000010\n",
      "#Lags Usados                      5.000000\n",
      "Número de observações usadas    359.000000\n",
      "Valores críticos (1%)            -3.448697\n",
      "Valores críticos (5%)            -2.869625\n",
      "Valores críticos (10%)           -2.571077\n",
      "dtype: float64\n",
      "None\n",
      "****************************************************************************************************\n",
      "************************************************** 2018 *******************************************\n",
      "****************************************************************************************************\n",
      "Resultados do teste Dickey Fuller:\n",
      "Teste estatístico                -3.157451\n",
      "p-value                           0.022583\n",
      "#Lags Usados                      5.000000\n",
      "Número de observações usadas    359.000000\n",
      "Valores críticos (1%)            -3.448697\n",
      "Valores críticos (5%)            -2.869625\n",
      "Valores críticos (10%)           -2.571077\n",
      "dtype: float64\n",
      "None\n",
      "****************************************************************************************************\n",
      "************************************************** 2019 *******************************************\n",
      "****************************************************************************************************\n",
      "Resultados do teste Dickey Fuller:\n",
      "Teste estatístico                -3.319026\n",
      "p-value                           0.014049\n",
      "#Lags Usados                      9.000000\n",
      "Número de observações usadas    355.000000\n",
      "Valores críticos (1%)            -3.448906\n",
      "Valores críticos (5%)            -2.869716\n",
      "Valores críticos (10%)           -2.571126\n",
      "dtype: float64\n",
      "None\n",
      "****************************************************************************************************\n",
      "************************************************** 2020 *******************************************\n",
      "****************************************************************************************************\n",
      "Resultados do teste Dickey Fuller:\n",
      "Teste estatístico                -4.324812\n",
      "p-value                           0.000402\n",
      "#Lags Usados                      8.000000\n",
      "Número de observações usadas    356.000000\n",
      "Valores críticos (1%)            -3.448853\n",
      "Valores críticos (5%)            -2.869693\n",
      "Valores críticos (10%)           -2.571114\n",
      "dtype: float64\n",
      "None\n"
     ]
    }
   ],
   "source": [
    "fi.testar_series([pinheiros_16,pinheiros_17,pinheiros_18,pinheiros_19,pinheiros_20])"
   ]
  },
  {
   "cell_type": "markdown",
   "metadata": {},
   "source": [
    "Aqui conclui que:\n",
    "+ A base Pinheiros no ano de 2016 **possui tendência**;\n",
    "+ A base Pinheiros no ano de 2017 **não possui tendência**;\n",
    "+ A base Pinheiros no ano de 2018 **possui tendência**;\n",
    "+ A base Pinheiros no ano de 2019 **possui tendência**;\n",
    "+ A base Pinheiros no ano de 2020 **possui tendência**;"
   ]
  }
 ],
 "metadata": {
  "kernelspec": {
   "display_name": "Python 3 (ipykernel)",
   "language": "python",
   "name": "python3"
  },
  "language_info": {
   "codemirror_mode": {
    "name": "ipython",
    "version": 3
   },
   "file_extension": ".py",
   "mimetype": "text/x-python",
   "name": "python",
   "nbconvert_exporter": "python",
   "pygments_lexer": "ipython3",
   "version": "3.9.1"
  }
 },
 "nbformat": 4,
 "nbformat_minor": 4
}
