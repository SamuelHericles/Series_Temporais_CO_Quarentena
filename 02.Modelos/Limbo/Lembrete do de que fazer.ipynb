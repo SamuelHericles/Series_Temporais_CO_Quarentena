{
 "cells": [
  {
   "cell_type": "markdown",
   "metadata": {},
   "source": [
    "- Verificar latitude e longitude do centro de São Paulo(Check):\n",
    "    - Parque pedro II com um raio de 9.5 km, pois se trata da região central da capital de São Paulo. Com isso, engloba as seguintes estações:\n",
    "        - Parque Pedro II;\n",
    "        - Pinheiros;\n",
    "        - Ibirapuera;\n",
    "        - Cerqueira Cesar;\n",
    "        - Mooca;\n",
    "        - Cogonhas;    \n",
    "        \n",
    "- Verificar o melhor método de imputação com uma base completa:   \n",
    "    **Verificar a variação dos dados estatísitcos das estações mais distantes**\n",
    "    \n",
    "    + Média (Base line);\n",
    "    + EM;\n",
    "    + Ponderação regional (PR);\n",
    "    + Interpolação do inverso da distância (IID);\n",
    "    \n",
    "    - Métodos para verificar qual melhor imputação\n",
    "        + VP;\n",
    "        + MAE;\n",
    "        + RMSE;\n",
    "  \n",
    "- Métodos de suavização dos dados\n",
    "    + Média movel;\n",
    "    + Exponencial;\n",
    "\n",
    "    + Métodos de suavização exponencial\n",
    "        + MAPE;\n",
    "        + MAE;\n",
    "        + MQE;\n",
    "\n",
    "- Extrair caracteríscas\n",
    "    + Lembrete iális: Extrair mais caracterísitcas com a lib git ts trech*\n",
    "    + Média dos 7 meses;\n",
    "    + Tendência dos 7 meses;\n",
    "    + Sazonalidade dos 7 meses;\n",
    "    + Ciclo dos 7 meses;\n",
    "    + Seta quando começou a quarentena;\n",
    "    + Antes e depois da quarentena e comparar nos outros anos:\n",
    "        + Média;\n",
    "        + Variância;\n",
    "        + Velocidade média;\n",
    "        + Aceleração média; \n",
    "    + Autocorrelação;\n",
    "    -----------------------------------------------------------\n",
    "    + Citar um fato ocorrido;\n",
    "    + Bag of words das principais palavras;"
   ]
  },
  {
   "cell_type": "code",
   "execution_count": null,
   "metadata": {},
   "outputs": [],
   "source": []
  }
 ],
 "metadata": {
  "kernelspec": {
   "display_name": "Python 3",
   "language": "python",
   "name": "python3"
  },
  "language_info": {
   "codemirror_mode": {
    "name": "ipython",
    "version": 3
   },
   "file_extension": ".py",
   "mimetype": "text/x-python",
   "name": "python",
   "nbconvert_exporter": "python",
   "pygments_lexer": "ipython3",
   "version": "3.8.3"
  }
 },
 "nbformat": 4,
 "nbformat_minor": 4
}
