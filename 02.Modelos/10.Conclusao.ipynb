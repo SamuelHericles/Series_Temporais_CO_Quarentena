{
 "cells": [
  {
   "cell_type": "markdown",
   "metadata": {},
   "source": [
    "O que podemos concluir com os resultados são que o impacto do covid-19 na população e no comércio já começou bem antes do decreto da quarentena, que de acordo com o gráfico começou no início de fevereiro. Com o decreto da quarentena as emissões de gases ficaram ainda menores que pode dizer que causou uma redução da moviemntação de veículos automotivos nas ruas que afeta o comércio. Por fim, em meados do mês de abril começou um aumento das amissões de gases que pode bater com os depois dos quinzes dias de quarentena decretado pelo governo. "
   ]
  },
  {
   "cell_type": "markdown",
   "metadata": {},
   "source": [
    "completa classificação -> https://www.snorkel.org/ \n"
   ]
  }
 ],
 "metadata": {
  "kernelspec": {
   "display_name": "Python 3 (ipykernel)",
   "language": "python",
   "name": "python3"
  },
  "language_info": {
   "codemirror_mode": {
    "name": "ipython",
    "version": 3
   },
   "file_extension": ".py",
   "mimetype": "text/x-python",
   "name": "python",
   "nbconvert_exporter": "python",
   "pygments_lexer": "ipython3",
   "version": "3.9.1"
  }
 },
 "nbformat": 4,
 "nbformat_minor": 4
}
