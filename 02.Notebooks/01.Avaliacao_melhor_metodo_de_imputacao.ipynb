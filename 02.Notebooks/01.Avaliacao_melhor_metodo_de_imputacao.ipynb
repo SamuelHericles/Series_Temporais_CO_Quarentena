{
 "cells": [
  {
   "cell_type": "markdown",
   "metadata": {},
   "source": [
    "Este notebook de buscar o melhor algoritmo de preenchimento dos dados. Logo, é seguido dois testes:\n",
    "\n",
    "1. Faço o método de precheechimento dos dados com a base toda e avalio com \n",
    "    + Viés Percentual;\n",
    "    + Erro Quadrático Médio;\n",
    "    + Erro Médio Absoluto.\n",
    "2. Retiro partes de um dataset original (2 messes, no caso) que não possua valores NaN(faltantes) e uso um algoritmo simples de previsão que é o ExponentialSmoothing da stastmodels. Faço o mesmo procedimento, mas antes retiro valores aleatorimente dessa base e preencho utilizando os métodos. Com os modelos previstos tanto para série original quanto para serie preenchida, avalio com o método acima lista no ponto anterior.\n",
    "\n",
    "\n",
    "Contudo, pego os resultados do VP(Viés Percentual), MQE(Erro Quadrático Médio) e MAE(Erro Médio Absoluto) tanto da para base de dados original quanto para a preenchida, faço a diferença entre os resultados e se der uma diferença muito grande é porque aquele método de preecheencimento colocou valores muito diferentes ou que não ia condizer se tivesse um valor inserido. Com isso, gerará vários resultados, então para isso foi utilizado um gráfico boxplot para verificar visualmente se os valores estão muito variados, ou seja, um boxplot muito grande nos diz que há valores muito variados então o método de preenchimento não é bom para aquela base."
   ]
  },
  {
   "cell_type": "markdown",
   "metadata": {},
   "source": [
    "# Imports de bibliotecas"
   ]
  },
  {
   "cell_type": "code",
   "execution_count": 3,
   "metadata": {
    "ExecuteTime": {
     "end_time": "2021-08-12T00:05:51.226341Z",
     "start_time": "2021-08-12T00:05:51.203391Z"
    }
   },
   "outputs": [],
   "source": [
    "import math\n",
    "import warnings\n",
    "\n",
    "import numpy as np\n",
    "import pandas as pd\n",
    "import seaborn as sns\n",
    "import matplotlib.pyplot as plt\n",
    "\n",
    "import metodos_imputacao as m_imputacao\n",
    "\n",
    "mimputacao = m_imputacao.metodos_de_imputacao()\n",
    "warnings.filterwarnings('ignore')"
   ]
  },
  {
   "cell_type": "markdown",
   "metadata": {},
   "source": [
    "# Upload das bases"
   ]
  },
  {
   "cell_type": "code",
   "execution_count": 4,
   "metadata": {
    "ExecuteTime": {
     "end_time": "2021-08-12T00:05:51.869499Z",
     "start_time": "2021-08-12T00:05:51.763815Z"
    }
   },
   "outputs": [],
   "source": [
    "# Bases de Cerqueira Cesar \n",
    "\n",
    "ccesar_16 = pd.read_csv('../01.Dados/CSV/CO_Cerqueria_2016.csv').reset_index(drop=True).iloc[:-1,:]\n",
    "ccesar_17 = pd.read_csv('../01.Dados/CSV/CO_Cerqueria_2017.csv').reset_index(drop=True)\n",
    "ccesar_18 = pd.read_csv('../01.Dados/CSV/CO_Cerqueria_2018.csv').reset_index(drop=True)\n",
    "ccesar_19 = pd.read_csv('../01.Dados/CSV/CO_Cerqueria_2019.csv').reset_index(drop=True)\n",
    "ccesar_20 = pd.read_csv('../01.Dados/CSV/CO_Cerqueria_2020.csv').reset_index(drop=True).iloc[:-1,:]\n",
    "\n",
    "# Base de Congonhas\n",
    "\n",
    "congonhas_16 = pd.read_csv('../01.Dados/CSV/CO_Congonhas_2016.csv').reset_index(drop=True).iloc[:-1,:]\n",
    "congonhas_17 = pd.read_csv('../01.Dados/CSV/CO_Congonhas_2017.csv').reset_index(drop=True)\n",
    "congonhas_18 = pd.read_csv('../01.Dados/CSV/CO_Congonhas_2018.csv').reset_index(drop=True)\n",
    "congonhas_19 = pd.read_csv('../01.Dados/CSV/CO_Congonhas_2019.csv').reset_index(drop=True)\n",
    "congonhas_20 = pd.read_csv('../01.Dados/CSV/CO_Congonhas_2020.csv').reset_index(drop=True).iloc[:-1,:]\n",
    "\n",
    "# Base de Mooca\n",
    "\n",
    "mooca_16 = pd.read_csv('../01.Dados/CSV/CO_Mooca_2016.csv').reset_index(drop=True).iloc[:-1,:]\n",
    "mooca_17 = pd.read_csv('../01.Dados/CSV/CO_Mooca_2017.csv').reset_index(drop=True)\n",
    "mooca_18 = pd.read_csv('../01.Dados/CSV/CO_Mooca_2018.csv').reset_index(drop=True)\n",
    "mooca_19 = pd.read_csv('../01.Dados/CSV/CO_Mooca_2019.csv').reset_index(drop=True)\n",
    "mooca_20 = pd.read_csv('../01.Dados/CSV/CO_Mooca_2020.csv').reset_index(drop=True).iloc[:-1,:]\n",
    "\n",
    "# Base Parque Pedro II\n",
    "\n",
    "ppredo_16 = pd.read_csv('../01.Dados/CSV/CO_P_Pedro_2016.csv').reset_index(drop=True).iloc[:-1,:]\n",
    "ppredo_17 = pd.read_csv('../01.Dados/CSV/CO_P_Pedro_2017.csv').reset_index(drop=True)\n",
    "ppredo_18 = pd.read_csv('../01.Dados/CSV/CO_P_Pedro_2018.csv').reset_index(drop=True)\n",
    "ppredo_19 = pd.read_csv('../01.Dados/CSV/CO_P_Pedro_2019.csv').reset_index(drop=True)\n",
    "ppredo_20 = pd.read_csv('../01.Dados/CSV/CO_P_Pedro_2020.csv').reset_index(drop=True).iloc[:-1,:]\n",
    "\n",
    "# Base Pinheiros \n",
    "\n",
    "pinheiros_16 = pd.read_csv('../01.Dados/CSV/CO_Pinheiros_2016.csv').reset_index(drop=True).iloc[:-1,:]\n",
    "pinheiros_17 = pd.read_csv('../01.Dados/CSV/CO_Pinheiros_2017.csv').reset_index(drop=True)\n",
    "pinheiros_18 = pd.read_csv('../01.Dados/CSV/CO_Pinheiros_2018.csv').reset_index(drop=True)\n",
    "pinheiros_19 = pd.read_csv('../01.Dados/CSV/CO_Pinheiros_2019.csv').reset_index(drop=True)\n",
    "pinheiros_20 = pd.read_csv('../01.Dados/CSV/CO_Pinheiros_2020.csv').reset_index(drop=True).iloc[:-1,:]"
   ]
  },
  {
   "cell_type": "code",
   "execution_count": 5,
   "metadata": {
    "ExecuteTime": {
     "end_time": "2021-08-12T00:05:51.993262Z",
     "start_time": "2021-08-12T00:05:51.977226Z"
    }
   },
   "outputs": [],
   "source": [
    "xeque_mate = pd.DataFrame({'Cesar':['',''],'Congonhas':['',''],\n",
    "                           'Mooca':['',''],'Parque Pedro II':['',''],\n",
    "                           'Pinheiros':['','']})"
   ]
  },
  {
   "cell_type": "markdown",
   "metadata": {},
   "source": [
    "# Verificar o melhor método de imputação com uma base completa\n",
    "Verificar a variação dos dados estatísitcos das estações mais distantes"
   ]
  },
  {
   "cell_type": "markdown",
   "metadata": {},
   "source": [
    "## Base de dados de Cerqueira Cesar"
   ]
  },
  {
   "cell_type": "code",
   "execution_count": 6,
   "metadata": {
    "ExecuteTime": {
     "end_time": "2021-08-12T00:05:52.510255Z",
     "start_time": "2021-08-12T00:05:52.502306Z"
    }
   },
   "outputs": [],
   "source": [
    "mes_null = pd.DataFrame([[np.nan]*24 for i in range(365-pinheiros_16.shape[0])], columns=[str(i) for i in range(1,25)])\n",
    "pinheiros_16 = pd.concat([pinheiros_16, mes_null], axis='rows')"
   ]
  },
  {
   "cell_type": "code",
   "execution_count": 5,
   "metadata": {
    "scrolled": false
   },
   "outputs": [
    {
     "name": "stdout",
     "output_type": "stream",
     "text": [
      "2016=>5.83% dos dados da bases são faltantes\n",
      "2017=>9.69% dos dados da bases são faltantes\n",
      "2018=>7.43% dos dados da bases são faltantes\n",
      "2019=>11.89% dos dados da bases são faltantes\n",
      "2020=>44.36% dos dados da bases são faltantes\n"
     ]
    },
    {
     "data": {
      "image/png": "[encoded data removed]",
      "text/plain": [
       "<Figure size 1152x576 with 3 Axes>"
      ]
     },
     "metadata": {
      "needs_background": "light"
     },
     "output_type": "display_data"
    }
   ],
   "source": [
    "Cerqueira_Cesar_16 = [ccesar_16,congonhas_16,mooca_16,ppredo_16,pinheiros_16]\n",
    "Cerqueira_Cesar_17 = [ccesar_17,congonhas_17,mooca_17,ppredo_17,pinheiros_17]\n",
    "Cerqueira_Cesar_18 = [ccesar_18,congonhas_18,mooca_18,ppredo_18,pinheiros_18]\n",
    "Cerqueira_Cesar_19 = [ccesar_19,congonhas_19,mooca_19,ppredo_19,pinheiros_19]\n",
    "Cerqueira_Cesar_20 = [ccesar_20,congonhas_20,mooca_20,ppredo_20,pinheiros_20]    \n",
    "\n",
    "dfs = [ccesar_16,ccesar_17,ccesar_18,ccesar_19,ccesar_20]\n",
    "raio_ccessar       = [7,7.4,4.7,3]\n",
    "\n",
    "dfs_raio = [Cerqueira_Cesar_16,\n",
    "            Cerqueira_Cesar_17,\n",
    "            Cerqueira_Cesar_18,\n",
    "            Cerqueira_Cesar_19,\n",
    "            Cerqueira_Cesar_20]  \n",
    "\n",
    "mimputacao.verficar_melhor_metodo(dfs,dfs_raio,raio_ccessar)\n",
    "xeque_mate['Cesar'] = 'EM'"
   ]
  },
  {
   "cell_type": "markdown",
   "metadata": {},
   "source": [
    "Verificando pelos resultados acima, podemos ver que o método de preenchimento **EM(Expected Maximization)** foi o mais apropriado para a base de dados da estação **Cerqueira Cesar**, pois apresentou uma boxplot muito pequeno que nos diz que houve pouca variação nos resultados."
   ]
  },
  {
   "cell_type": "markdown",
   "metadata": {},
   "source": [
    "## Base de dados de Congonhas"
   ]
  },
  {
   "cell_type": "code",
   "execution_count": 6,
   "metadata": {},
   "outputs": [
    {
     "name": "stdout",
     "output_type": "stream",
     "text": [
      "2016=>20.34% dos dados da bases são faltantes\n",
      "2017=>5.54% dos dados da bases são faltantes\n",
      "2018=>4.09% dos dados da bases são faltantes\n",
      "2019=>3.28% dos dados da bases são faltantes\n",
      "2020=>8.03% dos dados da bases são faltantes\n"
     ]
    },
    {
     "data": {
      "image/png": "[encoded data removed]",
      "text/plain": [
       "<Figure size 1152x576 with 3 Axes>"
      ]
     },
     "metadata": {
      "needs_background": "light"
     },
     "output_type": "display_data"
    }
   ],
   "source": [
    "raio_congonhas = [7.3,7,8.73]\n",
    "Congonhas_16 = [congonhas_16,pinheiros_16,ccesar_16,ppredo_16]\n",
    "Congonhas_17 = [congonhas_17,pinheiros_17,ccesar_17,ppredo_17]\n",
    "Congonhas_18 = [congonhas_18,pinheiros_18,ccesar_18,ppredo_18]\n",
    "Congonhas_19 = [congonhas_19,pinheiros_19,ccesar_19,ppredo_19]\n",
    "Congonhas_20 = [congonhas_20,pinheiros_20,ccesar_20,ppredo_20]\n",
    "dfs = [congonhas_16,congonhas_17,congonhas_18,congonhas_19,congonhas_20]\n",
    "dfs_raio = [Congonhas_16,Congonhas_17,Congonhas_18,Congonhas_19,Congonhas_20]\n",
    "mimputacao.verficar_melhor_metodo(dfs,dfs_raio,raio_congonhas)\n",
    "xeque_mate['Congonhas'] = 'EM'"
   ]
  },
  {
   "cell_type": "markdown",
   "metadata": {},
   "source": [
    "Verificando pelos resultados acima, podemos ver que o método de preenchimento **EM** foi o mais apropriado para a base de dados da estação **Congonhas**, pois apresentou uma boxplot muito pequeno que nos diz que houve pouca variação nos resultados."
   ]
  },
  {
   "cell_type": "markdown",
   "metadata": {
    "heading_collapsed": true
   },
   "source": [
    "## Base de dados de Mooca"
   ]
  },
  {
   "cell_type": "code",
   "execution_count": 7,
   "metadata": {
    "hidden": true
   },
   "outputs": [
    {
     "name": "stdout",
     "output_type": "stream",
     "text": [
      "2016=>6.58% dos dados da bases são faltantes\n",
      "2017=>7.59% dos dados da bases são faltantes\n",
      "2018=>14.97% dos dados da bases são faltantes\n",
      "2019=>12.44% dos dados da bases são faltantes\n",
      "2020=>16.53% dos dados da bases são faltantes\n"
     ]
    },
    {
     "data": {
      "image/png": "[encoded data removed]",
      "text/plain": [
       "<Figure size 1152x576 with 3 Axes>"
      ]
     },
     "metadata": {
      "needs_background": "light"
     },
     "output_type": "display_data"
    }
   ],
   "source": [
    "raio_Mooca = [2.84,7.33]\n",
    "Mooca_16   = [mooca_16,pinheiros_16,ccesar_16]\n",
    "Mooca_17   = [mooca_17,pinheiros_17,ccesar_17]\n",
    "Mooca_18   = [mooca_18,pinheiros_18,ccesar_18]\n",
    "Mooca_19   = [mooca_19,pinheiros_19,ccesar_19]\n",
    "Mooca_20   = [mooca_20,pinheiros_20,ccesar_20]\n",
    "dfs = [mooca_16,mooca_17,mooca_18,mooca_19,mooca_20]\n",
    "dfs_raio = [Mooca_16,Mooca_17,Mooca_18,Mooca_19,Mooca_20]\n",
    "mimputacao.verficar_melhor_metodo(dfs,dfs_raio,raio_Mooca)\n",
    "xeque_mate['Mooca'] = 'EM'"
   ]
  },
  {
   "cell_type": "markdown",
   "metadata": {
    "hidden": true
   },
   "source": [
    "Verificando pelos resultados acima, podemos ver que o método de preenchimento **EM** foi o mais apropriado para a base de dados da estação **Mooca**, pois apresentou uma boxplot muito pequeno que nos diz que houve pouca variação nos resultados."
   ]
  },
  {
   "cell_type": "markdown",
   "metadata": {
    "heading_collapsed": true
   },
   "source": [
    "## Base de dados Parque Pedro II"
   ]
  },
  {
   "cell_type": "code",
   "execution_count": 8,
   "metadata": {
    "hidden": true
   },
   "outputs": [
    {
     "name": "stdout",
     "output_type": "stream",
     "text": [
      "2016=>11.28% dos dados da bases são faltantes\n",
      "2017=>14.57% dos dados da bases são faltantes\n",
      "2018=>5.96% dos dados da bases são faltantes\n",
      "2019=>7.31% dos dados da bases são faltantes\n",
      "2020=>6.56% dos dados da bases são faltantes\n"
     ]
    },
    {
     "data": {
      "image/png": "[encoded data removed]",
      "text/plain": [
       "<Figure size 1152x576 with 3 Axes>"
      ]
     },
     "metadata": {
      "needs_background": "light"
     },
     "output_type": "display_data"
    }
   ],
   "source": [
    "Parque_Pedro_II_16 = [ppredo_16,mooca_16,ccesar_16,pinheiros_16,congonhas_16]\n",
    "Parque_Pedro_II_17 = [ppredo_17,mooca_17,ccesar_17,pinheiros_17,congonhas_17]\n",
    "Parque_Pedro_II_18 = [ppredo_18,mooca_18,ccesar_18,pinheiros_18,congonhas_18]\n",
    "Parque_Pedro_II_19 = [ppredo_19,mooca_19,ccesar_19,pinheiros_19,congonhas_19]\n",
    "Parque_Pedro_II_20 = [ppredo_20,mooca_20,ccesar_20,pinheiros_20,congonhas_20]\n",
    "raio_parque_pedro_II = [2.81,4.68,7.73,8.71]\n",
    "\n",
    "dfs = [ppredo_16,ppredo_17,ppredo_18,ppredo_19,ppredo_20]\n",
    "dfs_raio = [Parque_Pedro_II_16,Parque_Pedro_II_17,Parque_Pedro_II_18,Parque_Pedro_II_19,Parque_Pedro_II_20]\n",
    "mimputacao.verficar_melhor_metodo(dfs,dfs_raio,raio_parque_pedro_II)\n",
    "xeque_mate['Parque Pedro II'] = 'EM'"
   ]
  },
  {
   "cell_type": "markdown",
   "metadata": {
    "hidden": true
   },
   "source": [
    "Verificando pelos resultados acima, podemos ver que o método de preenchimento **EM(Expected Maximization)** foi o mais apropriado para a base de dados da estação **Parque Pedro II**, pois apresentou uma boxplot muito pequeno que nos diz que houve pouca variação nos resultados."
   ]
  },
  {
   "cell_type": "markdown",
   "metadata": {
    "heading_collapsed": true
   },
   "source": [
    "## Base de dados de Pinheiros "
   ]
  },
  {
   "cell_type": "code",
   "execution_count": 9,
   "metadata": {
    "hidden": true
   },
   "outputs": [
    {
     "name": "stdout",
     "output_type": "stream",
     "text": [
      "2016=>17.97% dos dados da bases são faltantes\n",
      "2017=>8.12% dos dados da bases são faltantes\n",
      "2018=>18.34% dos dados da bases são faltantes\n",
      "2019=>4.63% dos dados da bases são faltantes\n",
      "2020=>4.92% dos dados da bases são faltantes\n"
     ]
    },
    {
     "data": {
      "image/png": "[encoded data removed]",
      "text/plain": [
       "<Figure size 1152x576 with 3 Axes>"
      ]
     },
     "metadata": {
      "needs_background": "light"
     },
     "output_type": "display_data"
    }
   ],
   "source": [
    "Pinheiros_16   = [pinheiros_16,ccesar_16,ppredo_16,congonhas_16]\n",
    "Pinheiros_17   = [pinheiros_17,ccesar_17,ppredo_17,congonhas_17]\n",
    "Pinheiros_18   = [pinheiros_18,ccesar_18,ppredo_18,congonhas_18]\n",
    "Pinheiros_19   = [pinheiros_19,ccesar_19,ppredo_19,congonhas_19]\n",
    "Pinheiros_20   = [pinheiros_20,ccesar_20,ppredo_20,congonhas_20]\n",
    "dfs = [pinheiros_16,pinheiros_17,pinheiros_18,pinheiros_19,pinheiros_20]\n",
    "dfs_raio = [Pinheiros_16,Pinheiros_17,Pinheiros_18,Pinheiros_19,Pinheiros_20]\n",
    "raio_pinheiros = [3.15,7.76,7.26]\n",
    "mimputacao.verficar_melhor_metodo(dfs,dfs_raio,raio_pinheiros)\n",
    "xeque_mate['Pinheiros'] = 'IID'"
   ]
  },
  {
   "cell_type": "markdown",
   "metadata": {
    "hidden": true
   },
   "source": [
    "Verificando pelos resultados acima, podemos ver que o método de preenchimento **IID(Interpolação do inverso da distância)** foi o mais apropriado para a base de dados da estação **Pinheiros**, pois apresentou uma boxplot muito pequeno que nos diz que houve pouca variação nos resultados."
   ]
  },
  {
   "cell_type": "markdown",
   "metadata": {},
   "source": [
    "# Verificar do melhor método de imputação com um simples modelo de regressão linear com parte da base completa."
   ]
  },
  {
   "cell_type": "markdown",
   "metadata": {},
   "source": [
    "1. Procurar uma parte da base sem NaN; \n",
    "2. Copiar essa parte; \n",
    "3. Retirar aleatoriamente;\n",
    "4. Aplicar método de imputação de dados;\n",
    "5. Aplicar simples Modelo de regressão; \n",
    "6. Verificar qual melhor pelo VP,MAE e MQE. "
   ]
  },
  {
   "cell_type": "markdown",
   "metadata": {
    "heading_collapsed": true
   },
   "source": [
    "## Base de dados de Cerqueira Cesar"
   ]
  },
  {
   "cell_type": "code",
   "execution_count": 10,
   "metadata": {
    "hidden": true
   },
   "outputs": [
    {
     "ename": "IndexError",
     "evalue": "list index out of range",
     "output_type": "error",
     "traceback": [
      "\u001b[1;31m---------------------------------------------------------------------------\u001b[0m",
      "\u001b[1;31mIndexError\u001b[0m                                Traceback (most recent call last)",
      "\u001b[1;32m~\\AppData\\Local\\Temp/ipykernel_22300/3139078496.py\u001b[0m in \u001b[0;36m<module>\u001b[1;34m\u001b[0m\n\u001b[0;32m     34\u001b[0m \u001b[0mmedia_completados\u001b[0m\u001b[1;33m,\u001b[0m\u001b[0ma\u001b[0m\u001b[1;33m,\u001b[0m\u001b[0mb\u001b[0m\u001b[1;33m,\u001b[0m\u001b[0mc\u001b[0m \u001b[1;33m=\u001b[0m \u001b[0mmimputacao\u001b[0m\u001b[1;33m.\u001b[0m\u001b[0mcompleta_serie_Media\u001b[0m\u001b[1;33m(\u001b[0m\u001b[0mcerqueira_cesar\u001b[0m\u001b[1;33m)\u001b[0m\u001b[1;33m\u001b[0m\u001b[1;33m\u001b[0m\u001b[0m\n\u001b[0;32m     35\u001b[0m \u001b[0mem_completados\u001b[0m\u001b[1;33m,\u001b[0m\u001b[0ma\u001b[0m\u001b[1;33m,\u001b[0m\u001b[0mb\u001b[0m\u001b[1;33m,\u001b[0m\u001b[0mc\u001b[0m    \u001b[1;33m=\u001b[0m \u001b[0mmimputacao\u001b[0m\u001b[1;33m.\u001b[0m\u001b[0mcompleta_serie_EM\u001b[0m\u001b[1;33m(\u001b[0m\u001b[0mcerqueira_cesar\u001b[0m\u001b[1;33m)\u001b[0m\u001b[1;33m\u001b[0m\u001b[1;33m\u001b[0m\u001b[0m\n\u001b[1;32m---> 36\u001b[1;33m \u001b[0mpr_completados\u001b[0m\u001b[1;33m,\u001b[0m\u001b[0ma\u001b[0m\u001b[1;33m,\u001b[0m\u001b[0mb\u001b[0m\u001b[1;33m,\u001b[0m\u001b[0mc\u001b[0m    \u001b[1;33m=\u001b[0m \u001b[0mmimputacao\u001b[0m\u001b[1;33m.\u001b[0m\u001b[0mcompleta_serie_ponderacao_regional\u001b[0m\u001b[1;33m(\u001b[0m\u001b[0mCerqueira_cesar\u001b[0m\u001b[1;33m)\u001b[0m\u001b[1;33m\u001b[0m\u001b[1;33m\u001b[0m\u001b[0m\n\u001b[0m\u001b[0;32m     37\u001b[0m \u001b[0miid_completados\u001b[0m\u001b[1;33m,\u001b[0m\u001b[0ma\u001b[0m\u001b[1;33m,\u001b[0m\u001b[0mb\u001b[0m\u001b[1;33m,\u001b[0m\u001b[0mc\u001b[0m   \u001b[1;33m=\u001b[0m \u001b[0mmimputacao\u001b[0m\u001b[1;33m.\u001b[0m\u001b[0mcompleta_serie_IID\u001b[0m\u001b[1;33m(\u001b[0m\u001b[0mCerqueira_cesar\u001b[0m\u001b[1;33m,\u001b[0m\u001b[0mraio_ccessar\u001b[0m\u001b[1;33m)\u001b[0m\u001b[1;33m\u001b[0m\u001b[1;33m\u001b[0m\u001b[0m\n\u001b[0;32m     38\u001b[0m \u001b[1;33m\u001b[0m\u001b[0m\n",
      "\u001b[1;32m~\\Desktop\\S10\\1_TCC\\Analise_Quarentena\\02.Notebooks\\metodos_imputacao.py\u001b[0m in \u001b[0;36mcompleta_serie_ponderacao_regional\u001b[1;34m(self, dados)\u001b[0m\n\u001b[0;32m    206\u001b[0m             \u001b[0mponderacao\u001b[0m \u001b[1;33m=\u001b[0m \u001b[1;36m0\u001b[0m\u001b[1;33m\u001b[0m\u001b[1;33m\u001b[0m\u001b[0m\n\u001b[0;32m    207\u001b[0m             \u001b[1;32mfor\u001b[0m \u001b[0mmes\u001b[0m \u001b[1;32min\u001b[0m \u001b[0mrange\u001b[0m\u001b[1;33m(\u001b[0m\u001b[1;36m12\u001b[0m\u001b[1;33m)\u001b[0m\u001b[1;33m:\u001b[0m\u001b[1;33m\u001b[0m\u001b[1;33m\u001b[0m\u001b[0m\n\u001b[1;32m--> 208\u001b[1;33m                 \u001b[0mMs\u001b[0m \u001b[1;33m=\u001b[0m \u001b[1;33m[\u001b[0m\u001b[0mMx\u001b[0m\u001b[1;33m[\u001b[0m\u001b[0mmes\u001b[0m\u001b[1;33m]\u001b[0m\u001b[1;33m/\u001b[0m\u001b[0mMi\u001b[0m\u001b[1;33m[\u001b[0m\u001b[0mestacao\u001b[0m\u001b[1;33m]\u001b[0m\u001b[1;33m[\u001b[0m\u001b[0mmes\u001b[0m\u001b[1;33m]\u001b[0m \u001b[1;32mfor\u001b[0m \u001b[0mestacao\u001b[0m \u001b[1;32min\u001b[0m \u001b[0mrange\u001b[0m\u001b[1;33m(\u001b[0m\u001b[0mn\u001b[0m\u001b[1;33m)\u001b[0m\u001b[1;33m]\u001b[0m\u001b[1;33m\u001b[0m\u001b[1;33m\u001b[0m\u001b[0m\n\u001b[0m\u001b[0;32m    209\u001b[0m                 \u001b[0mDi\u001b[0m \u001b[1;33m=\u001b[0m \u001b[1;33m[\u001b[0m\u001b[1;36m0\u001b[0m \u001b[1;32mif\u001b[0m \u001b[0mmath\u001b[0m\u001b[1;33m.\u001b[0m\u001b[0misnan\u001b[0m\u001b[1;33m(\u001b[0m\u001b[0mdados\u001b[0m\u001b[1;33m[\u001b[0m\u001b[0mi\u001b[0m\u001b[1;33m]\u001b[0m\u001b[1;33m.\u001b[0m\u001b[0miloc\u001b[0m\u001b[1;33m[\u001b[0m\u001b[0ma\u001b[0m\u001b[1;33m,\u001b[0m\u001b[0mb\u001b[0m\u001b[1;33m]\u001b[0m\u001b[1;33m)\u001b[0m \u001b[1;32melse\u001b[0m \u001b[0mdados\u001b[0m\u001b[1;33m[\u001b[0m\u001b[0mi\u001b[0m\u001b[1;33m]\u001b[0m\u001b[1;33m.\u001b[0m\u001b[0miloc\u001b[0m\u001b[1;33m[\u001b[0m\u001b[0ma\u001b[0m\u001b[1;33m,\u001b[0m\u001b[0mb\u001b[0m\u001b[1;33m]\u001b[0m \u001b[1;32mfor\u001b[0m \u001b[0mi\u001b[0m \u001b[1;32min\u001b[0m \u001b[0mrange\u001b[0m\u001b[1;33m(\u001b[0m\u001b[1;36m1\u001b[0m\u001b[1;33m,\u001b[0m\u001b[0mn\u001b[0m\u001b[1;33m+\u001b[0m\u001b[1;36m1\u001b[0m\u001b[1;33m)\u001b[0m\u001b[1;33m]\u001b[0m\u001b[1;33m\u001b[0m\u001b[1;33m\u001b[0m\u001b[0m\n\u001b[0;32m    210\u001b[0m                 \u001b[0mponderacao\u001b[0m \u001b[1;33m+=\u001b[0m \u001b[0mnp\u001b[0m\u001b[1;33m.\u001b[0m\u001b[0mdot\u001b[0m\u001b[1;33m(\u001b[0m\u001b[1;33m(\u001b[0m\u001b[1;36m1\u001b[0m\u001b[1;33m/\u001b[0m\u001b[0mn\u001b[0m\u001b[1;33m)\u001b[0m\u001b[1;33m,\u001b[0m\u001b[0mnp\u001b[0m\u001b[1;33m.\u001b[0m\u001b[0msum\u001b[0m\u001b[1;33m(\u001b[0m\u001b[1;33m[\u001b[0m\u001b[0mMs\u001b[0m\u001b[1;33m[\u001b[0m\u001b[0mi\u001b[0m\u001b[1;33m]\u001b[0m\u001b[1;33m*\u001b[0m\u001b[0mDi\u001b[0m\u001b[1;33m[\u001b[0m\u001b[0mi\u001b[0m\u001b[1;33m]\u001b[0m \u001b[1;32mfor\u001b[0m \u001b[0mi\u001b[0m \u001b[1;32min\u001b[0m \u001b[0mrange\u001b[0m\u001b[1;33m(\u001b[0m\u001b[0mlen\u001b[0m\u001b[1;33m(\u001b[0m\u001b[0mDi\u001b[0m\u001b[1;33m)\u001b[0m\u001b[1;33m)\u001b[0m\u001b[1;33m]\u001b[0m\u001b[1;33m)\u001b[0m\u001b[1;33m)\u001b[0m\u001b[1;33m\u001b[0m\u001b[1;33m\u001b[0m\u001b[0m\n",
      "\u001b[1;32m~\\Desktop\\S10\\1_TCC\\Analise_Quarentena\\02.Notebooks\\metodos_imputacao.py\u001b[0m in \u001b[0;36m<listcomp>\u001b[1;34m(.0)\u001b[0m\n\u001b[0;32m    206\u001b[0m             \u001b[0mponderacao\u001b[0m \u001b[1;33m=\u001b[0m \u001b[1;36m0\u001b[0m\u001b[1;33m\u001b[0m\u001b[1;33m\u001b[0m\u001b[0m\n\u001b[0;32m    207\u001b[0m             \u001b[1;32mfor\u001b[0m \u001b[0mmes\u001b[0m \u001b[1;32min\u001b[0m \u001b[0mrange\u001b[0m\u001b[1;33m(\u001b[0m\u001b[1;36m12\u001b[0m\u001b[1;33m)\u001b[0m\u001b[1;33m:\u001b[0m\u001b[1;33m\u001b[0m\u001b[1;33m\u001b[0m\u001b[0m\n\u001b[1;32m--> 208\u001b[1;33m                 \u001b[0mMs\u001b[0m \u001b[1;33m=\u001b[0m \u001b[1;33m[\u001b[0m\u001b[0mMx\u001b[0m\u001b[1;33m[\u001b[0m\u001b[0mmes\u001b[0m\u001b[1;33m]\u001b[0m\u001b[1;33m/\u001b[0m\u001b[0mMi\u001b[0m\u001b[1;33m[\u001b[0m\u001b[0mestacao\u001b[0m\u001b[1;33m]\u001b[0m\u001b[1;33m[\u001b[0m\u001b[0mmes\u001b[0m\u001b[1;33m]\u001b[0m \u001b[1;32mfor\u001b[0m \u001b[0mestacao\u001b[0m \u001b[1;32min\u001b[0m \u001b[0mrange\u001b[0m\u001b[1;33m(\u001b[0m\u001b[0mn\u001b[0m\u001b[1;33m)\u001b[0m\u001b[1;33m]\u001b[0m\u001b[1;33m\u001b[0m\u001b[1;33m\u001b[0m\u001b[0m\n\u001b[0m\u001b[0;32m    209\u001b[0m                 \u001b[0mDi\u001b[0m \u001b[1;33m=\u001b[0m \u001b[1;33m[\u001b[0m\u001b[1;36m0\u001b[0m \u001b[1;32mif\u001b[0m \u001b[0mmath\u001b[0m\u001b[1;33m.\u001b[0m\u001b[0misnan\u001b[0m\u001b[1;33m(\u001b[0m\u001b[0mdados\u001b[0m\u001b[1;33m[\u001b[0m\u001b[0mi\u001b[0m\u001b[1;33m]\u001b[0m\u001b[1;33m.\u001b[0m\u001b[0miloc\u001b[0m\u001b[1;33m[\u001b[0m\u001b[0ma\u001b[0m\u001b[1;33m,\u001b[0m\u001b[0mb\u001b[0m\u001b[1;33m]\u001b[0m\u001b[1;33m)\u001b[0m \u001b[1;32melse\u001b[0m \u001b[0mdados\u001b[0m\u001b[1;33m[\u001b[0m\u001b[0mi\u001b[0m\u001b[1;33m]\u001b[0m\u001b[1;33m.\u001b[0m\u001b[0miloc\u001b[0m\u001b[1;33m[\u001b[0m\u001b[0ma\u001b[0m\u001b[1;33m,\u001b[0m\u001b[0mb\u001b[0m\u001b[1;33m]\u001b[0m \u001b[1;32mfor\u001b[0m \u001b[0mi\u001b[0m \u001b[1;32min\u001b[0m \u001b[0mrange\u001b[0m\u001b[1;33m(\u001b[0m\u001b[1;36m1\u001b[0m\u001b[1;33m,\u001b[0m\u001b[0mn\u001b[0m\u001b[1;33m+\u001b[0m\u001b[1;36m1\u001b[0m\u001b[1;33m)\u001b[0m\u001b[1;33m]\u001b[0m\u001b[1;33m\u001b[0m\u001b[1;33m\u001b[0m\u001b[0m\n\u001b[0;32m    210\u001b[0m                 \u001b[0mponderacao\u001b[0m \u001b[1;33m+=\u001b[0m \u001b[0mnp\u001b[0m\u001b[1;33m.\u001b[0m\u001b[0mdot\u001b[0m\u001b[1;33m(\u001b[0m\u001b[1;33m(\u001b[0m\u001b[1;36m1\u001b[0m\u001b[1;33m/\u001b[0m\u001b[0mn\u001b[0m\u001b[1;33m)\u001b[0m\u001b[1;33m,\u001b[0m\u001b[0mnp\u001b[0m\u001b[1;33m.\u001b[0m\u001b[0msum\u001b[0m\u001b[1;33m(\u001b[0m\u001b[1;33m[\u001b[0m\u001b[0mMs\u001b[0m\u001b[1;33m[\u001b[0m\u001b[0mi\u001b[0m\u001b[1;33m]\u001b[0m\u001b[1;33m*\u001b[0m\u001b[0mDi\u001b[0m\u001b[1;33m[\u001b[0m\u001b[0mi\u001b[0m\u001b[1;33m]\u001b[0m \u001b[1;32mfor\u001b[0m \u001b[0mi\u001b[0m \u001b[1;32min\u001b[0m \u001b[0mrange\u001b[0m\u001b[1;33m(\u001b[0m\u001b[0mlen\u001b[0m\u001b[1;33m(\u001b[0m\u001b[0mDi\u001b[0m\u001b[1;33m)\u001b[0m\u001b[1;33m)\u001b[0m\u001b[1;33m]\u001b[0m\u001b[1;33m)\u001b[0m\u001b[1;33m)\u001b[0m\u001b[1;33m\u001b[0m\u001b[1;33m\u001b[0m\u001b[0m\n",
      "\u001b[1;31mIndexError\u001b[0m: list index out of range"
     ]
    }
   ],
   "source": [
    "cerqueira_cesar = pd.concat([mimputacao.random_nan(mimputacao.random_rows(ccesar_16,60),0.05),\n",
    "                             mimputacao.random_nan(mimputacao.random_rows(ccesar_17,60),0.05),\n",
    "                             mimputacao.random_nan(mimputacao.random_rows(ccesar_18,60),0.05),\n",
    "                             mimputacao.random_nan(mimputacao.random_rows(ccesar_19,60),0.05),\n",
    "                             mimputacao.random_nan(mimputacao.random_rows(ccesar_20,60),0.05)])\n",
    "cerqueira_cesar.reset_index(drop=True,inplace=True)\n",
    "\n",
    "raio_ccessar    = [7,7.4,4.7,3]\n",
    "Cerqueira_cesar = [cerqueira_cesar,\n",
    "                   mimputacao.concatena([mimputacao.random_rows(mooca_16,60),\n",
    "                                         mimputacao.random_rows(mooca_17,60),\n",
    "                                         mimputacao.random_rows(mooca_18,60),\n",
    "                                         mimputacao.random_rows(mooca_19,60),\n",
    "                                         mimputacao.random_rows(mooca_20,60)]),\n",
    "                   \n",
    "                   mimputacao.concatena([mimputacao.random_rows(ppredo_16,60),\n",
    "                                         mimputacao.random_rows(ppredo_17,60),\n",
    "                                         mimputacao.random_rows(ppredo_18,60),\n",
    "                                         mimputacao.random_rows(ppredo_19,60),\n",
    "                                         mimputacao.random_rows(ppredo_20,60)]),               \n",
    "                   \n",
    "                   mimputacao.concatena([mimputacao.random_rows(congonhas_16,60),\n",
    "                                         mimputacao.random_rows(congonhas_17,60),\n",
    "                                         mimputacao.random_rows(congonhas_18,60),\n",
    "                                         mimputacao.random_rows(congonhas_19,60),\n",
    "                                         mimputacao.random_rows(congonhas_20,60)]),\n",
    "                   \n",
    "                   mimputacao.concatena([mimputacao.random_rows(pinheiros_16,60),\n",
    "                                         mimputacao.random_rows(pinheiros_17,60),\n",
    "                                         mimputacao.random_rows(pinheiros_18,60),\n",
    "                                         mimputacao.random_rows(pinheiros_19,60),\n",
    "                                         mimputacao.random_rows(pinheiros_20,60)])]\n",
    "\n",
    "media_completados,a,b,c = mimputacao.completa_serie_Media(cerqueira_cesar)\n",
    "em_completados,a,b,c    = mimputacao.completa_serie_EM(cerqueira_cesar)\n",
    "pr_completados,a,b,c    = mimputacao.completa_serie_ponderacao_regional(Cerqueira_cesar)\n",
    "iid_completados,a,b,c   = mimputacao.completa_serie_IID(Cerqueira_cesar,raio_ccessar)\n",
    "\n",
    "resultados_media = mimputacao.testa_melhor_metodo(media_completados,cerqueira_cesar,'additive')\n",
    "resultados_em    = mimputacao.testa_melhor_metodo(em_completados+1,cerqueira_cesar ,'additive')\n",
    "resultados_pr    = mimputacao.testa_melhor_metodo(pr_completados,cerqueira_cesar   ,'additive')\n",
    "resultados_iid   = mimputacao.testa_melhor_metodo(iid_completados,cerqueira_cesar  , 'additive')\n",
    "\n",
    "resultados = pd.concat([resultados_media,resultados_em,resultados_pr,resultados_iid])\n",
    "tipo = []\n",
    "rows = resultados_media.shape[0]\n",
    "for  i in [['Media' for _ in range(rows)],['EM' for _ in range(rows)],['PR' for _ in range(rows)],['IID' for _ in range(rows)]]:\n",
    "    for j in i:\n",
    "        tipo.append(j)\n",
    "\n",
    "resultados['Tipo'] = tipo\n",
    "resultados.reset_index(drop=True,inplace=True)\n",
    "\n",
    "resultados['MQE'].loc[resultados['MQE']> 1] = 1\n",
    "resultados['MQE'].loc[resultados['MQE']<-1] =-1\n",
    "resultados['VP'] .loc[resultados['VP'] > 1] = 1\n",
    "resultados['VP'] .loc[resultados['VP'] <-1] =-1\n",
    "resultados['MAE'].loc[resultados['MAE']> 1] = 1\n",
    "resultados['MAE'].loc[resultados['MAE']<-1] =-1\n",
    "\n",
    "fig, axes = plt.subplots(1,3,sharex=True, figsize=(16,8))\n",
    "sns.boxplot(ax=axes[0],x=\"Tipo\", y=\"MQE\", data=resultados)\n",
    "axes[0].set_title(\"MQE\")\n",
    "\n",
    "sns.boxplot(ax=axes[1],x=\"Tipo\", y=\"VP\" , data=resultados)\n",
    "axes[1].set_title(\"VP\")\n",
    "\n",
    "sns.boxplot(ax=axes[2],x=\"Tipo\", y=\"MAE\", data=resultados)\n",
    "axes[2].set_title(\"MAE\")\n",
    "plt.show()\n",
    "xeque_mate.iloc[1,0] = 'EM'"
   ]
  },
  {
   "cell_type": "markdown",
   "metadata": {
    "hidden": true
   },
   "source": [
    "Verificando pelos resultados acima, podemos ver que o método de preenchimento **EM(Expected Maximization)** foi o mais apropriado para a base de dados da estação **Cerqueira Cesar**, pois apresentou uma boxplot muito pequeno que nos diz que houve pouca variação nos resultados."
   ]
  },
  {
   "cell_type": "markdown",
   "metadata": {
    "heading_collapsed": true
   },
   "source": [
    "## Base de dados de Congonhas"
   ]
  },
  {
   "cell_type": "code",
   "execution_count": 11,
   "metadata": {
    "hidden": true,
    "scrolled": false
   },
   "outputs": [
    {
     "ename": "IndexError",
     "evalue": "list index out of range",
     "output_type": "error",
     "traceback": [
      "\u001b[1;31m---------------------------------------------------------------------------\u001b[0m",
      "\u001b[1;31mIndexError\u001b[0m                                Traceback (most recent call last)",
      "\u001b[1;32m~\\AppData\\Local\\Temp/ipykernel_22300/3901305037.py\u001b[0m in \u001b[0;36m<module>\u001b[1;34m\u001b[0m\n\u001b[0;32m     26\u001b[0m \u001b[0mmedia_completados\u001b[0m\u001b[1;33m,\u001b[0m\u001b[0ma\u001b[0m\u001b[1;33m,\u001b[0m\u001b[0mb\u001b[0m\u001b[1;33m,\u001b[0m\u001b[0mc\u001b[0m \u001b[1;33m=\u001b[0m \u001b[0mmimputacao\u001b[0m\u001b[1;33m.\u001b[0m\u001b[0mcompleta_serie_Media\u001b[0m\u001b[1;33m(\u001b[0m\u001b[0mcongonhas\u001b[0m\u001b[1;33m)\u001b[0m\u001b[1;33m\u001b[0m\u001b[1;33m\u001b[0m\u001b[0m\n\u001b[0;32m     27\u001b[0m \u001b[0mem_completados\u001b[0m\u001b[1;33m,\u001b[0m\u001b[0ma\u001b[0m\u001b[1;33m,\u001b[0m\u001b[0mb\u001b[0m\u001b[1;33m,\u001b[0m\u001b[0mc\u001b[0m    \u001b[1;33m=\u001b[0m \u001b[0mmimputacao\u001b[0m\u001b[1;33m.\u001b[0m\u001b[0mcompleta_serie_EM\u001b[0m\u001b[1;33m(\u001b[0m\u001b[0mcongonhas\u001b[0m\u001b[1;33m)\u001b[0m\u001b[1;33m\u001b[0m\u001b[1;33m\u001b[0m\u001b[0m\n\u001b[1;32m---> 28\u001b[1;33m \u001b[0mpr_completados\u001b[0m\u001b[1;33m,\u001b[0m\u001b[0ma\u001b[0m\u001b[1;33m,\u001b[0m\u001b[0mb\u001b[0m\u001b[1;33m,\u001b[0m\u001b[0mc\u001b[0m    \u001b[1;33m=\u001b[0m \u001b[0mmimputacao\u001b[0m\u001b[1;33m.\u001b[0m\u001b[0mcompleta_serie_ponderacao_regional\u001b[0m\u001b[1;33m(\u001b[0m\u001b[0mCongonhas\u001b[0m\u001b[1;33m)\u001b[0m\u001b[1;33m\u001b[0m\u001b[1;33m\u001b[0m\u001b[0m\n\u001b[0m\u001b[0;32m     29\u001b[0m \u001b[0miid_completados\u001b[0m\u001b[1;33m,\u001b[0m\u001b[0ma\u001b[0m\u001b[1;33m,\u001b[0m\u001b[0mb\u001b[0m\u001b[1;33m,\u001b[0m\u001b[0mc\u001b[0m   \u001b[1;33m=\u001b[0m \u001b[0mmimputacao\u001b[0m\u001b[1;33m.\u001b[0m\u001b[0mcompleta_serie_IID\u001b[0m\u001b[1;33m(\u001b[0m\u001b[0mCongonhas\u001b[0m\u001b[1;33m,\u001b[0m\u001b[0mraio_congonhas\u001b[0m\u001b[1;33m)\u001b[0m\u001b[1;33m\u001b[0m\u001b[1;33m\u001b[0m\u001b[0m\n\u001b[0;32m     30\u001b[0m \u001b[1;33m\u001b[0m\u001b[0m\n",
      "\u001b[1;32m~\\Desktop\\S10\\1_TCC\\Analise_Quarentena\\02.Notebooks\\metodos_imputacao.py\u001b[0m in \u001b[0;36mcompleta_serie_ponderacao_regional\u001b[1;34m(self, dados)\u001b[0m\n\u001b[0;32m    206\u001b[0m             \u001b[0mponderacao\u001b[0m \u001b[1;33m=\u001b[0m \u001b[1;36m0\u001b[0m\u001b[1;33m\u001b[0m\u001b[1;33m\u001b[0m\u001b[0m\n\u001b[0;32m    207\u001b[0m             \u001b[1;32mfor\u001b[0m \u001b[0mmes\u001b[0m \u001b[1;32min\u001b[0m \u001b[0mrange\u001b[0m\u001b[1;33m(\u001b[0m\u001b[1;36m12\u001b[0m\u001b[1;33m)\u001b[0m\u001b[1;33m:\u001b[0m\u001b[1;33m\u001b[0m\u001b[1;33m\u001b[0m\u001b[0m\n\u001b[1;32m--> 208\u001b[1;33m                 \u001b[0mMs\u001b[0m \u001b[1;33m=\u001b[0m \u001b[1;33m[\u001b[0m\u001b[0mMx\u001b[0m\u001b[1;33m[\u001b[0m\u001b[0mmes\u001b[0m\u001b[1;33m]\u001b[0m\u001b[1;33m/\u001b[0m\u001b[0mMi\u001b[0m\u001b[1;33m[\u001b[0m\u001b[0mestacao\u001b[0m\u001b[1;33m]\u001b[0m\u001b[1;33m[\u001b[0m\u001b[0mmes\u001b[0m\u001b[1;33m]\u001b[0m \u001b[1;32mfor\u001b[0m \u001b[0mestacao\u001b[0m \u001b[1;32min\u001b[0m \u001b[0mrange\u001b[0m\u001b[1;33m(\u001b[0m\u001b[0mn\u001b[0m\u001b[1;33m)\u001b[0m\u001b[1;33m]\u001b[0m\u001b[1;33m\u001b[0m\u001b[1;33m\u001b[0m\u001b[0m\n\u001b[0m\u001b[0;32m    209\u001b[0m                 \u001b[0mDi\u001b[0m \u001b[1;33m=\u001b[0m \u001b[1;33m[\u001b[0m\u001b[1;36m0\u001b[0m \u001b[1;32mif\u001b[0m \u001b[0mmath\u001b[0m\u001b[1;33m.\u001b[0m\u001b[0misnan\u001b[0m\u001b[1;33m(\u001b[0m\u001b[0mdados\u001b[0m\u001b[1;33m[\u001b[0m\u001b[0mi\u001b[0m\u001b[1;33m]\u001b[0m\u001b[1;33m.\u001b[0m\u001b[0miloc\u001b[0m\u001b[1;33m[\u001b[0m\u001b[0ma\u001b[0m\u001b[1;33m,\u001b[0m\u001b[0mb\u001b[0m\u001b[1;33m]\u001b[0m\u001b[1;33m)\u001b[0m \u001b[1;32melse\u001b[0m \u001b[0mdados\u001b[0m\u001b[1;33m[\u001b[0m\u001b[0mi\u001b[0m\u001b[1;33m]\u001b[0m\u001b[1;33m.\u001b[0m\u001b[0miloc\u001b[0m\u001b[1;33m[\u001b[0m\u001b[0ma\u001b[0m\u001b[1;33m,\u001b[0m\u001b[0mb\u001b[0m\u001b[1;33m]\u001b[0m \u001b[1;32mfor\u001b[0m \u001b[0mi\u001b[0m \u001b[1;32min\u001b[0m \u001b[0mrange\u001b[0m\u001b[1;33m(\u001b[0m\u001b[1;36m1\u001b[0m\u001b[1;33m,\u001b[0m\u001b[0mn\u001b[0m\u001b[1;33m+\u001b[0m\u001b[1;36m1\u001b[0m\u001b[1;33m)\u001b[0m\u001b[1;33m]\u001b[0m\u001b[1;33m\u001b[0m\u001b[1;33m\u001b[0m\u001b[0m\n\u001b[0;32m    210\u001b[0m                 \u001b[0mponderacao\u001b[0m \u001b[1;33m+=\u001b[0m \u001b[0mnp\u001b[0m\u001b[1;33m.\u001b[0m\u001b[0mdot\u001b[0m\u001b[1;33m(\u001b[0m\u001b[1;33m(\u001b[0m\u001b[1;36m1\u001b[0m\u001b[1;33m/\u001b[0m\u001b[0mn\u001b[0m\u001b[1;33m)\u001b[0m\u001b[1;33m,\u001b[0m\u001b[0mnp\u001b[0m\u001b[1;33m.\u001b[0m\u001b[0msum\u001b[0m\u001b[1;33m(\u001b[0m\u001b[1;33m[\u001b[0m\u001b[0mMs\u001b[0m\u001b[1;33m[\u001b[0m\u001b[0mi\u001b[0m\u001b[1;33m]\u001b[0m\u001b[1;33m*\u001b[0m\u001b[0mDi\u001b[0m\u001b[1;33m[\u001b[0m\u001b[0mi\u001b[0m\u001b[1;33m]\u001b[0m \u001b[1;32mfor\u001b[0m \u001b[0mi\u001b[0m \u001b[1;32min\u001b[0m \u001b[0mrange\u001b[0m\u001b[1;33m(\u001b[0m\u001b[0mlen\u001b[0m\u001b[1;33m(\u001b[0m\u001b[0mDi\u001b[0m\u001b[1;33m)\u001b[0m\u001b[1;33m)\u001b[0m\u001b[1;33m]\u001b[0m\u001b[1;33m)\u001b[0m\u001b[1;33m)\u001b[0m\u001b[1;33m\u001b[0m\u001b[1;33m\u001b[0m\u001b[0m\n",
      "\u001b[1;32m~\\Desktop\\S10\\1_TCC\\Analise_Quarentena\\02.Notebooks\\metodos_imputacao.py\u001b[0m in \u001b[0;36m<listcomp>\u001b[1;34m(.0)\u001b[0m\n\u001b[0;32m    206\u001b[0m             \u001b[0mponderacao\u001b[0m \u001b[1;33m=\u001b[0m \u001b[1;36m0\u001b[0m\u001b[1;33m\u001b[0m\u001b[1;33m\u001b[0m\u001b[0m\n\u001b[0;32m    207\u001b[0m             \u001b[1;32mfor\u001b[0m \u001b[0mmes\u001b[0m \u001b[1;32min\u001b[0m \u001b[0mrange\u001b[0m\u001b[1;33m(\u001b[0m\u001b[1;36m12\u001b[0m\u001b[1;33m)\u001b[0m\u001b[1;33m:\u001b[0m\u001b[1;33m\u001b[0m\u001b[1;33m\u001b[0m\u001b[0m\n\u001b[1;32m--> 208\u001b[1;33m                 \u001b[0mMs\u001b[0m \u001b[1;33m=\u001b[0m \u001b[1;33m[\u001b[0m\u001b[0mMx\u001b[0m\u001b[1;33m[\u001b[0m\u001b[0mmes\u001b[0m\u001b[1;33m]\u001b[0m\u001b[1;33m/\u001b[0m\u001b[0mMi\u001b[0m\u001b[1;33m[\u001b[0m\u001b[0mestacao\u001b[0m\u001b[1;33m]\u001b[0m\u001b[1;33m[\u001b[0m\u001b[0mmes\u001b[0m\u001b[1;33m]\u001b[0m \u001b[1;32mfor\u001b[0m \u001b[0mestacao\u001b[0m \u001b[1;32min\u001b[0m \u001b[0mrange\u001b[0m\u001b[1;33m(\u001b[0m\u001b[0mn\u001b[0m\u001b[1;33m)\u001b[0m\u001b[1;33m]\u001b[0m\u001b[1;33m\u001b[0m\u001b[1;33m\u001b[0m\u001b[0m\n\u001b[0m\u001b[0;32m    209\u001b[0m                 \u001b[0mDi\u001b[0m \u001b[1;33m=\u001b[0m \u001b[1;33m[\u001b[0m\u001b[1;36m0\u001b[0m \u001b[1;32mif\u001b[0m \u001b[0mmath\u001b[0m\u001b[1;33m.\u001b[0m\u001b[0misnan\u001b[0m\u001b[1;33m(\u001b[0m\u001b[0mdados\u001b[0m\u001b[1;33m[\u001b[0m\u001b[0mi\u001b[0m\u001b[1;33m]\u001b[0m\u001b[1;33m.\u001b[0m\u001b[0miloc\u001b[0m\u001b[1;33m[\u001b[0m\u001b[0ma\u001b[0m\u001b[1;33m,\u001b[0m\u001b[0mb\u001b[0m\u001b[1;33m]\u001b[0m\u001b[1;33m)\u001b[0m \u001b[1;32melse\u001b[0m \u001b[0mdados\u001b[0m\u001b[1;33m[\u001b[0m\u001b[0mi\u001b[0m\u001b[1;33m]\u001b[0m\u001b[1;33m.\u001b[0m\u001b[0miloc\u001b[0m\u001b[1;33m[\u001b[0m\u001b[0ma\u001b[0m\u001b[1;33m,\u001b[0m\u001b[0mb\u001b[0m\u001b[1;33m]\u001b[0m \u001b[1;32mfor\u001b[0m \u001b[0mi\u001b[0m \u001b[1;32min\u001b[0m \u001b[0mrange\u001b[0m\u001b[1;33m(\u001b[0m\u001b[1;36m1\u001b[0m\u001b[1;33m,\u001b[0m\u001b[0mn\u001b[0m\u001b[1;33m+\u001b[0m\u001b[1;36m1\u001b[0m\u001b[1;33m)\u001b[0m\u001b[1;33m]\u001b[0m\u001b[1;33m\u001b[0m\u001b[1;33m\u001b[0m\u001b[0m\n\u001b[0;32m    210\u001b[0m                 \u001b[0mponderacao\u001b[0m \u001b[1;33m+=\u001b[0m \u001b[0mnp\u001b[0m\u001b[1;33m.\u001b[0m\u001b[0mdot\u001b[0m\u001b[1;33m(\u001b[0m\u001b[1;33m(\u001b[0m\u001b[1;36m1\u001b[0m\u001b[1;33m/\u001b[0m\u001b[0mn\u001b[0m\u001b[1;33m)\u001b[0m\u001b[1;33m,\u001b[0m\u001b[0mnp\u001b[0m\u001b[1;33m.\u001b[0m\u001b[0msum\u001b[0m\u001b[1;33m(\u001b[0m\u001b[1;33m[\u001b[0m\u001b[0mMs\u001b[0m\u001b[1;33m[\u001b[0m\u001b[0mi\u001b[0m\u001b[1;33m]\u001b[0m\u001b[1;33m*\u001b[0m\u001b[0mDi\u001b[0m\u001b[1;33m[\u001b[0m\u001b[0mi\u001b[0m\u001b[1;33m]\u001b[0m \u001b[1;32mfor\u001b[0m \u001b[0mi\u001b[0m \u001b[1;32min\u001b[0m \u001b[0mrange\u001b[0m\u001b[1;33m(\u001b[0m\u001b[0mlen\u001b[0m\u001b[1;33m(\u001b[0m\u001b[0mDi\u001b[0m\u001b[1;33m)\u001b[0m\u001b[1;33m)\u001b[0m\u001b[1;33m]\u001b[0m\u001b[1;33m)\u001b[0m\u001b[1;33m)\u001b[0m\u001b[1;33m\u001b[0m\u001b[1;33m\u001b[0m\u001b[0m\n",
      "\u001b[1;31mIndexError\u001b[0m: list index out of range"
     ]
    }
   ],
   "source": [
    "congonhas = pd.concat([mimputacao.random_nan(mimputacao.random_rows(mooca_16,60),0.05),\n",
    "                       mimputacao.random_nan(mimputacao.linha_no_nan(mooca_17),0.05),\n",
    "                       mimputacao.random_nan(mimputacao.linha_no_nan(mooca_18),0.05),\n",
    "                       mimputacao.random_nan(mimputacao.linha_no_nan(mooca_19),0.05),\n",
    "                       mimputacao.random_nan(mimputacao.linha_no_nan(mooca_20),0.05)])\n",
    "congonhas.reset_index(drop=True,inplace=True)\n",
    "\n",
    "raio_congonhas = [7.3,7,8.73]\n",
    "Congonhas   = [congonhas,\n",
    "               mimputacao.concatena([mimputacao.random_rows(pinheiros_16,60),\n",
    "                          mimputacao.random_rows(pinheiros_17,60),\n",
    "                          mimputacao.random_rows(pinheiros_18,60),\n",
    "                          mimputacao.random_rows(pinheiros_19,60),\n",
    "                          mimputacao.random_rows(pinheiros_20,60)]),               \n",
    "               mimputacao.concatena([mimputacao.random_rows(ccesar_16,60),\n",
    "                          mimputacao.random_rows(ccesar_17,60),\n",
    "                          mimputacao.random_rows(ccesar_18,60),\n",
    "                          mimputacao.random_rows(ccesar_19,60),\n",
    "                          mimputacao.random_rows(ccesar_20,60)]),\n",
    "               mimputacao.concatena([mimputacao.random_rows(ppredo_16,60),\n",
    "                          mimputacao.random_rows(ppredo_17,60),\n",
    "                          mimputacao.random_rows(ppredo_18,60),\n",
    "                          mimputacao.random_rows(ppredo_19,60),\n",
    "                          mimputacao.random_rows(ppredo_20,60)])]\n",
    "\n",
    "media_completados,a,b,c = mimputacao.completa_serie_Media(congonhas)\n",
    "em_completados,a,b,c    = mimputacao.completa_serie_EM(congonhas)\n",
    "pr_completados,a,b,c    = mimputacao.completa_serie_ponderacao_regional(Congonhas)\n",
    "iid_completados,a,b,c   = mimputacao.completa_serie_IID(Congonhas,raio_congonhas)\n",
    "\n",
    "resultados_media = mimputacao.testa_melhor_metodo(media_completados,congonhas,'additive')\n",
    "resultados_em    = mimputacao.testa_melhor_metodo(em_completados+1,congonhas,'additive')\n",
    "resultados_pr    = mimputacao.testa_melhor_metodo(pr_completados,congonhas,'additive')\n",
    "resultados_iid   = mimputacao.testa_melhor_metodo(iid_completados,congonhas,'additive')\n",
    "\n",
    "resultados = pd.concat([resultados_media,resultados_em,resultados_pr,resultados_iid])\n",
    "tipo = []\n",
    "rows = resultados_media.shape[0]\n",
    "for  i in [['Media' for _ in range(rows)],['EM' for _ in range(rows)],['PR' for _ in range(rows)],['IID' for _ in range(rows)]]:\n",
    "    for j in i:\n",
    "        tipo.append(j)\n",
    "\n",
    "resultados['Tipo'] = tipo\n",
    "resultados.reset_index(drop=True,inplace=True)\n",
    "\n",
    "resultados['MQE'].loc[resultados['MQE']> 1] = 1\n",
    "resultados['MQE'].loc[resultados['MQE']<-1] =-1\n",
    "resultados['VP'] .loc[resultados['VP'] > 1] = 1\n",
    "resultados['VP'] .loc[resultados['VP'] <-1] =-1\n",
    "resultados['MAE'].loc[resultados['MAE']> 1] = 1\n",
    "resultados['MAE'].loc[resultados['MAE']<-1] =-1\n",
    "\n",
    "fig, axes = plt.subplots(1,3,sharex=True, figsize=(16,8))\n",
    "sns.boxplot(ax=axes[0],x=\"Tipo\", y=\"MQE\", data=resultados)\n",
    "axes[0].set_title(\"MQE\")\n",
    "\n",
    "sns.boxplot(ax=axes[1],x=\"Tipo\", y=\"VP\" , data=resultados)\n",
    "axes[1].set_title(\"VP\")\n",
    "\n",
    "sns.boxplot(ax=axes[2],x=\"Tipo\", y=\"MAE\", data=resultados)\n",
    "axes[2].set_title(\"MAE\")\n",
    "plt.show()\n",
    "xeque_mate.iloc[1,1] = 'IID'"
   ]
  },
  {
   "cell_type": "markdown",
   "metadata": {
    "hidden": true
   },
   "source": [
    "Verificando pelos resultados acima, podemos ver que o método de preenchimento **IID(Interpolação do inverso da distância)** foi o mais apropriado para a base de dados da estação **Congonhas**, pois apresentou uma boxplot muito pequeno que nos diz que houve pouca variação nos resultados."
   ]
  },
  {
   "cell_type": "markdown",
   "metadata": {
    "heading_collapsed": true
   },
   "source": [
    "## Base de dados de Mooca"
   ]
  },
  {
   "cell_type": "code",
   "execution_count": null,
   "metadata": {
    "hidden": true
   },
   "outputs": [],
   "source": [
    "mooca = pd.concat([mimputacao.random_nan(mimputacao.random_rows(mooca_16,60),0.05),\n",
    "                  mimputacao.random_nan(mimputacao.linha_no_nan(mooca_17),0.05),\n",
    "                  mimputacao.random_nan(mimputacao.linha_no_nan(mooca_18),0.05),\n",
    "                  mimputacao.random_nan(mimputacao.linha_no_nan(mooca_19),0.05),\n",
    "                  mimputacao.random_nan(mimputacao.linha_no_nan(mooca_20),0.05)])\n",
    "mooca.reset_index(drop=True,inplace=True)\n",
    "\n",
    "raio_Mooca = [2.84,7.33]\n",
    "\n",
    "Mooca   = [mooca,\n",
    "           mimputacao.concatena([mimputacao.random_rows(pinheiros_16,60),\n",
    "                      mimputacao.random_rows(pinheiros_17,60),\n",
    "                      mimputacao.random_rows(pinheiros_18,60),\n",
    "                      mimputacao.random_rows(pinheiros_19,60),\n",
    "                      mimputacao.random_rows(pinheiros_20,60)]),               \n",
    "           mimputacao.concatena([mimputacao.random_rows(ccesar_16,60),\n",
    "                      mimputacao.random_rows(ccesar_17,60),\n",
    "                      mimputacao.random_rows(ccesar_18,60),\n",
    "                      mimputacao.random_rows(ccesar_19,60),\n",
    "                      mimputacao.random_rows(ccesar_20,60)])]\n",
    "\n",
    "media_completados,a,b,c = mimputacao.completa_serie_Media(mooca)\n",
    "em_completados,a,b,c    = mimputacao.completa_serie_EM(mooca)\n",
    "pr_completados,a,b,c    = mimputacao.completa_serie_ponderacao_regional(Mooca)\n",
    "iid_completados,a,b,c   = mimputacao.completa_serie_IID(Mooca,raio_Mooca)\n",
    "\n",
    "resultados_media = mimputacao.testa_melhor_metodo(media_completados,mooca,'additive')\n",
    "resultados_em    = mimputacao.testa_melhor_metodo(em_completados+1,mooca,'additive')\n",
    "resultados_pr    = mimputacao.testa_melhor_metodo(pr_completados,mooca,'additive')\n",
    "resultados_iid   = mimputacao.testa_melhor_metodo(iid_completados,mooca,'additive')\n",
    "\n",
    "resultados = pd.concat([resultados_media,resultados_em,resultados_pr,resultados_iid])\n",
    "tipo = []\n",
    "rows = resultados_media.shape[0]\n",
    "for  i in [['Media' for _ in range(rows)],['EM' for _ in range(rows)],['PR' for _ in range(rows)],['IID' for _ in range(rows)]]:\n",
    "    for j in i:\n",
    "        tipo.append(j)\n",
    "\n",
    "resultados['Tipo'] = tipo\n",
    "resultados.reset_index(drop=True,inplace=True)\n",
    "\n",
    "resultados['MQE'].loc[resultados['MQE']> 1] = 1\n",
    "resultados['MQE'].loc[resultados['MQE']<-1] =-1\n",
    "resultados['VP'] .loc[resultados['VP'] > 1] = 1\n",
    "resultados['VP'] .loc[resultados['VP'] <-1] =-1\n",
    "resultados['MAE'].loc[resultados['MAE']> 1] = 1\n",
    "resultados['MAE'].loc[resultados['MAE']<-1] =-1\n",
    "\n",
    "fig, axes = plt.subplots(1,3,sharex=True, figsize=(16,8))\n",
    "sns.boxplot(ax=axes[0],x=\"Tipo\", y=\"MQE\", data=resultados)\n",
    "axes[0].set_title(\"MQE\")\n",
    "\n",
    "sns.boxplot(ax=axes[1],x=\"Tipo\", y=\"VP\" , data=resultados)\n",
    "axes[1].set_title(\"VP\")\n",
    "\n",
    "sns.boxplot(ax=axes[2],x=\"Tipo\", y=\"MAE\", data=resultados)\n",
    "axes[2].set_title(\"MAE\")\n",
    "plt.show()\n",
    "xeque_mate.iloc[1,2] = 'IID'"
   ]
  },
  {
   "cell_type": "markdown",
   "metadata": {
    "hidden": true
   },
   "source": [
    "Verificando pelos resultados acima, podemos ver que o método de preenchimento **IID(Interpolação do inverso da distância)** foi o mais apropriado para a base de dados da estação **Mooca**, pois apresentou uma boxplot muito pequeno que nos diz que houve pouca variação nos resultados."
   ]
  },
  {
   "cell_type": "markdown",
   "metadata": {
    "heading_collapsed": true
   },
   "source": [
    "## Base de dados de Parque Pedro II"
   ]
  },
  {
   "cell_type": "code",
   "execution_count": null,
   "metadata": {
    "hidden": true
   },
   "outputs": [],
   "source": [
    "parque_pedro_II = pd.concat([mimputacao.random_nan(mimputacao.random_rows(ppredo_16,60),0.05),\n",
    "                             mimputacao.random_nan(mimputacao.linha_no_nan(ppredo_17),0.05),\n",
    "                             mimputacao.random_nan(mimputacao.linha_no_nan(ppredo_18),0.05),\n",
    "                             mimputacao.random_nan(mimputacao.linha_no_nan(ppredo_19),0.05),\n",
    "                             mimputacao.random_nan(mimputacao.linha_no_nan(ppredo_20),0.05)])\n",
    "parque_pedro_II.reset_index(drop=True,inplace=True)\n",
    "\n",
    "raio_parque_pedro_II = [2.81,4.68,7.73,8.71]\n",
    "Parque_Pedro_II = {\n",
    "    'Mooca':4.7,\n",
    "    'Cerqueira_Cesar':4.65,\n",
    "    'Pinheiros':7.76,\n",
    "    'Ibirapuera':6.14,\n",
    "    'Congonhas':8.73\n",
    "    }\n",
    "Parque_Pedro_II   = [parque_pedro_II,\n",
    "                     mimputacao.concatena([mimputacao.random_rows(mooca_16,60),\n",
    "                                mimputacao.random_rows(mooca_17,60),\n",
    "                                mimputacao.random_rows(mooca_18,60),\n",
    "                                mimputacao.random_rows(mooca_19,60),\n",
    "                                mimputacao.random_rows(mooca_20,60)]),\n",
    "                     mimputacao.concatena([mimputacao.random_rows(ccesar_16,60),\n",
    "                                mimputacao.random_rows(ccesar_17,60),\n",
    "                                mimputacao.random_rows(ccesar_18,60),\n",
    "                                mimputacao.random_rows(ccesar_19,60),\n",
    "                                mimputacao.random_rows(ccesar_20,60)]),\n",
    "                     mimputacao.concatena([mimputacao.random_rows(pinheiros_16,60),\n",
    "                                mimputacao.random_rows(pinheiros_17,60),\n",
    "                                mimputacao.random_rows(pinheiros_18,60),\n",
    "                                mimputacao.random_rows(pinheiros_19,60),\n",
    "                                mimputacao.random_rows(pinheiros_20,60)]),                    \n",
    "                     mimputacao.concatena([mimputacao.random_rows(congonhas_16,60),\n",
    "                                mimputacao.random_rows(congonhas_17,60),\n",
    "                                mimputacao.random_rows(congonhas_18,60),\n",
    "                                mimputacao.random_rows(congonhas_19,60),\n",
    "                                mimputacao.random_rows(congonhas_20,60)])]\n",
    "\n",
    "media_completados,a,b,c = mimputacao.completa_serie_Media(parque_pedro_II)\n",
    "em_completados,a,b,c    = mimputacao.completa_serie_EM(parque_pedro_II)\n",
    "pr_completados,a,b,c    = mimputacao.completa_serie_ponderacao_regional(Parque_Pedro_II)\n",
    "iid_completados,a,b,c   = mimputacao.completa_serie_IID(Parque_Pedro_II,raio_parque_pedro_II)\n",
    "\n",
    "resultados_media = mimputacao.testa_melhor_metodo(media_completados,parque_pedro_II,'additive')\n",
    "resultados_em    = mimputacao.testa_melhor_metodo(em_completados+1,parque_pedro_II,'additive')\n",
    "resultados_pr    = mimputacao.testa_melhor_metodo(pr_completados,parque_pedro_II,'additive')\n",
    "resultados_iid   = mimputacao.testa_melhor_metodo(iid_completados,parque_pedro_II,'additive')\n",
    "\n",
    "resultados = pd.concat([resultados_media,resultados_em,resultados_pr,resultados_iid])\n",
    "tipo = []\n",
    "rows = resultados_media.shape[0]\n",
    "for  i in [['Media' for _ in range(rows)],['EM' for _ in range(rows)],['PR' for _ in range(rows)],['IID' for _ in range(rows)]]:\n",
    "    for j in i:\n",
    "        tipo.append(j)\n",
    "\n",
    "resultados['Tipo'] = tipo\n",
    "resultados.reset_index(drop=True,inplace=True)\n",
    "\n",
    "resultados['MQE'].loc[resultados['MQE']> 1] = 1\n",
    "resultados['MQE'].loc[resultados['MQE']<-1] =-1\n",
    "resultados['VP'] .loc[resultados['VP'] > 1] = 1\n",
    "resultados['VP'] .loc[resultados['VP'] <-1] =-1\n",
    "resultados['MAE'].loc[resultados['MAE']> 1] = 1\n",
    "resultados['MAE'].loc[resultados['MAE']<-1] =-1\n",
    "\n",
    "fig, axes = plt.subplots(1,3,sharex=True, figsize=(16,8))\n",
    "sns.boxplot(ax=axes[0],x=\"Tipo\", y=\"MQE\", data=resultados)\n",
    "axes[0].set_title(\"MQE\")\n",
    "\n",
    "sns.boxplot(ax=axes[1],x=\"Tipo\", y=\"VP\" , data=resultados)\n",
    "axes[1].set_title(\"VP\")\n",
    "\n",
    "sns.boxplot(ax=axes[2],x=\"Tipo\", y=\"MAE\", data=resultados)\n",
    "axes[2].set_title(\"MAE\")\n",
    "plt.show()\n",
    "xeque_mate.iloc[1,3] = 'IID'"
   ]
  },
  {
   "cell_type": "markdown",
   "metadata": {
    "hidden": true
   },
   "source": [
    "Verificando pelos resultados acima, podemos ver que o método de preenchimento **EM(Expected Maximization)** foi o mais apropriado para a base de dados da estação **Parque Pedro II**, pois apresentou uma boxplot muito pequeno que nos diz que houve pouca variação nos resultados."
   ]
  },
  {
   "cell_type": "markdown",
   "metadata": {
    "heading_collapsed": true
   },
   "source": [
    "## Base de dados de Pinheiros"
   ]
  },
  {
   "cell_type": "code",
   "execution_count": 12,
   "metadata": {
    "hidden": true
   },
   "outputs": [
    {
     "ename": "IndexError",
     "evalue": "list index out of range",
     "output_type": "error",
     "traceback": [
      "\u001b[1;31m---------------------------------------------------------------------------\u001b[0m",
      "\u001b[1;31mIndexError\u001b[0m                                Traceback (most recent call last)",
      "\u001b[1;32m~\\AppData\\Local\\Temp/ipykernel_22300/1550961311.py\u001b[0m in \u001b[0;36m<module>\u001b[1;34m\u001b[0m\n\u001b[0;32m     26\u001b[0m \u001b[0mmedia_completados\u001b[0m\u001b[1;33m,\u001b[0m\u001b[0ma\u001b[0m\u001b[1;33m,\u001b[0m\u001b[0mb\u001b[0m\u001b[1;33m,\u001b[0m\u001b[0mc\u001b[0m \u001b[1;33m=\u001b[0m \u001b[0mmimputacao\u001b[0m\u001b[1;33m.\u001b[0m\u001b[0mcompleta_serie_Media\u001b[0m\u001b[1;33m(\u001b[0m\u001b[0mpinheiros\u001b[0m\u001b[1;33m)\u001b[0m\u001b[1;33m\u001b[0m\u001b[1;33m\u001b[0m\u001b[0m\n\u001b[0;32m     27\u001b[0m \u001b[0mem_completados\u001b[0m\u001b[1;33m,\u001b[0m\u001b[0ma\u001b[0m\u001b[1;33m,\u001b[0m\u001b[0mb\u001b[0m\u001b[1;33m,\u001b[0m\u001b[0mc\u001b[0m    \u001b[1;33m=\u001b[0m \u001b[0mmimputacao\u001b[0m\u001b[1;33m.\u001b[0m\u001b[0mcompleta_serie_EM\u001b[0m\u001b[1;33m(\u001b[0m\u001b[0mpinheiros\u001b[0m\u001b[1;33m)\u001b[0m\u001b[1;33m\u001b[0m\u001b[1;33m\u001b[0m\u001b[0m\n\u001b[1;32m---> 28\u001b[1;33m \u001b[0mpr_completados\u001b[0m\u001b[1;33m,\u001b[0m\u001b[0ma\u001b[0m\u001b[1;33m,\u001b[0m\u001b[0mb\u001b[0m\u001b[1;33m,\u001b[0m\u001b[0mc\u001b[0m    \u001b[1;33m=\u001b[0m \u001b[0mmimputacao\u001b[0m\u001b[1;33m.\u001b[0m\u001b[0mcompleta_serie_ponderacao_regional\u001b[0m\u001b[1;33m(\u001b[0m\u001b[0mPinheiros\u001b[0m\u001b[1;33m)\u001b[0m\u001b[1;33m\u001b[0m\u001b[1;33m\u001b[0m\u001b[0m\n\u001b[0m\u001b[0;32m     29\u001b[0m \u001b[0miid_completados\u001b[0m\u001b[1;33m,\u001b[0m\u001b[0ma\u001b[0m\u001b[1;33m,\u001b[0m\u001b[0mb\u001b[0m\u001b[1;33m,\u001b[0m\u001b[0mc\u001b[0m   \u001b[1;33m=\u001b[0m \u001b[0mmimputacao\u001b[0m\u001b[1;33m.\u001b[0m\u001b[0mcompleta_serie_IID\u001b[0m\u001b[1;33m(\u001b[0m\u001b[0mPinheiros\u001b[0m\u001b[1;33m,\u001b[0m\u001b[0mraio_pinheiros\u001b[0m\u001b[1;33m)\u001b[0m\u001b[1;33m\u001b[0m\u001b[1;33m\u001b[0m\u001b[0m\n\u001b[0;32m     30\u001b[0m \u001b[1;33m\u001b[0m\u001b[0m\n",
      "\u001b[1;32m~\\Desktop\\S10\\1_TCC\\Analise_Quarentena\\02.Notebooks\\metodos_imputacao.py\u001b[0m in \u001b[0;36mcompleta_serie_ponderacao_regional\u001b[1;34m(self, dados)\u001b[0m\n\u001b[0;32m    206\u001b[0m             \u001b[0mponderacao\u001b[0m \u001b[1;33m=\u001b[0m \u001b[1;36m0\u001b[0m\u001b[1;33m\u001b[0m\u001b[1;33m\u001b[0m\u001b[0m\n\u001b[0;32m    207\u001b[0m             \u001b[1;32mfor\u001b[0m \u001b[0mmes\u001b[0m \u001b[1;32min\u001b[0m \u001b[0mrange\u001b[0m\u001b[1;33m(\u001b[0m\u001b[1;36m12\u001b[0m\u001b[1;33m)\u001b[0m\u001b[1;33m:\u001b[0m\u001b[1;33m\u001b[0m\u001b[1;33m\u001b[0m\u001b[0m\n\u001b[1;32m--> 208\u001b[1;33m                 \u001b[0mMs\u001b[0m \u001b[1;33m=\u001b[0m \u001b[1;33m[\u001b[0m\u001b[0mMx\u001b[0m\u001b[1;33m[\u001b[0m\u001b[0mmes\u001b[0m\u001b[1;33m]\u001b[0m\u001b[1;33m/\u001b[0m\u001b[0mMi\u001b[0m\u001b[1;33m[\u001b[0m\u001b[0mestacao\u001b[0m\u001b[1;33m]\u001b[0m\u001b[1;33m[\u001b[0m\u001b[0mmes\u001b[0m\u001b[1;33m]\u001b[0m \u001b[1;32mfor\u001b[0m \u001b[0mestacao\u001b[0m \u001b[1;32min\u001b[0m \u001b[0mrange\u001b[0m\u001b[1;33m(\u001b[0m\u001b[0mn\u001b[0m\u001b[1;33m)\u001b[0m\u001b[1;33m]\u001b[0m\u001b[1;33m\u001b[0m\u001b[1;33m\u001b[0m\u001b[0m\n\u001b[0m\u001b[0;32m    209\u001b[0m                 \u001b[0mDi\u001b[0m \u001b[1;33m=\u001b[0m \u001b[1;33m[\u001b[0m\u001b[1;36m0\u001b[0m \u001b[1;32mif\u001b[0m \u001b[0mmath\u001b[0m\u001b[1;33m.\u001b[0m\u001b[0misnan\u001b[0m\u001b[1;33m(\u001b[0m\u001b[0mdados\u001b[0m\u001b[1;33m[\u001b[0m\u001b[0mi\u001b[0m\u001b[1;33m]\u001b[0m\u001b[1;33m.\u001b[0m\u001b[0miloc\u001b[0m\u001b[1;33m[\u001b[0m\u001b[0ma\u001b[0m\u001b[1;33m,\u001b[0m\u001b[0mb\u001b[0m\u001b[1;33m]\u001b[0m\u001b[1;33m)\u001b[0m \u001b[1;32melse\u001b[0m \u001b[0mdados\u001b[0m\u001b[1;33m[\u001b[0m\u001b[0mi\u001b[0m\u001b[1;33m]\u001b[0m\u001b[1;33m.\u001b[0m\u001b[0miloc\u001b[0m\u001b[1;33m[\u001b[0m\u001b[0ma\u001b[0m\u001b[1;33m,\u001b[0m\u001b[0mb\u001b[0m\u001b[1;33m]\u001b[0m \u001b[1;32mfor\u001b[0m \u001b[0mi\u001b[0m \u001b[1;32min\u001b[0m \u001b[0mrange\u001b[0m\u001b[1;33m(\u001b[0m\u001b[1;36m1\u001b[0m\u001b[1;33m,\u001b[0m\u001b[0mn\u001b[0m\u001b[1;33m+\u001b[0m\u001b[1;36m1\u001b[0m\u001b[1;33m)\u001b[0m\u001b[1;33m]\u001b[0m\u001b[1;33m\u001b[0m\u001b[1;33m\u001b[0m\u001b[0m\n\u001b[0;32m    210\u001b[0m                 \u001b[0mponderacao\u001b[0m \u001b[1;33m+=\u001b[0m \u001b[0mnp\u001b[0m\u001b[1;33m.\u001b[0m\u001b[0mdot\u001b[0m\u001b[1;33m(\u001b[0m\u001b[1;33m(\u001b[0m\u001b[1;36m1\u001b[0m\u001b[1;33m/\u001b[0m\u001b[0mn\u001b[0m\u001b[1;33m)\u001b[0m\u001b[1;33m,\u001b[0m\u001b[0mnp\u001b[0m\u001b[1;33m.\u001b[0m\u001b[0msum\u001b[0m\u001b[1;33m(\u001b[0m\u001b[1;33m[\u001b[0m\u001b[0mMs\u001b[0m\u001b[1;33m[\u001b[0m\u001b[0mi\u001b[0m\u001b[1;33m]\u001b[0m\u001b[1;33m*\u001b[0m\u001b[0mDi\u001b[0m\u001b[1;33m[\u001b[0m\u001b[0mi\u001b[0m\u001b[1;33m]\u001b[0m \u001b[1;32mfor\u001b[0m \u001b[0mi\u001b[0m \u001b[1;32min\u001b[0m \u001b[0mrange\u001b[0m\u001b[1;33m(\u001b[0m\u001b[0mlen\u001b[0m\u001b[1;33m(\u001b[0m\u001b[0mDi\u001b[0m\u001b[1;33m)\u001b[0m\u001b[1;33m)\u001b[0m\u001b[1;33m]\u001b[0m\u001b[1;33m)\u001b[0m\u001b[1;33m)\u001b[0m\u001b[1;33m\u001b[0m\u001b[1;33m\u001b[0m\u001b[0m\n",
      "\u001b[1;32m~\\Desktop\\S10\\1_TCC\\Analise_Quarentena\\02.Notebooks\\metodos_imputacao.py\u001b[0m in \u001b[0;36m<listcomp>\u001b[1;34m(.0)\u001b[0m\n\u001b[0;32m    206\u001b[0m             \u001b[0mponderacao\u001b[0m \u001b[1;33m=\u001b[0m \u001b[1;36m0\u001b[0m\u001b[1;33m\u001b[0m\u001b[1;33m\u001b[0m\u001b[0m\n\u001b[0;32m    207\u001b[0m             \u001b[1;32mfor\u001b[0m \u001b[0mmes\u001b[0m \u001b[1;32min\u001b[0m \u001b[0mrange\u001b[0m\u001b[1;33m(\u001b[0m\u001b[1;36m12\u001b[0m\u001b[1;33m)\u001b[0m\u001b[1;33m:\u001b[0m\u001b[1;33m\u001b[0m\u001b[1;33m\u001b[0m\u001b[0m\n\u001b[1;32m--> 208\u001b[1;33m                 \u001b[0mMs\u001b[0m \u001b[1;33m=\u001b[0m \u001b[1;33m[\u001b[0m\u001b[0mMx\u001b[0m\u001b[1;33m[\u001b[0m\u001b[0mmes\u001b[0m\u001b[1;33m]\u001b[0m\u001b[1;33m/\u001b[0m\u001b[0mMi\u001b[0m\u001b[1;33m[\u001b[0m\u001b[0mestacao\u001b[0m\u001b[1;33m]\u001b[0m\u001b[1;33m[\u001b[0m\u001b[0mmes\u001b[0m\u001b[1;33m]\u001b[0m \u001b[1;32mfor\u001b[0m \u001b[0mestacao\u001b[0m \u001b[1;32min\u001b[0m \u001b[0mrange\u001b[0m\u001b[1;33m(\u001b[0m\u001b[0mn\u001b[0m\u001b[1;33m)\u001b[0m\u001b[1;33m]\u001b[0m\u001b[1;33m\u001b[0m\u001b[1;33m\u001b[0m\u001b[0m\n\u001b[0m\u001b[0;32m    209\u001b[0m                 \u001b[0mDi\u001b[0m \u001b[1;33m=\u001b[0m \u001b[1;33m[\u001b[0m\u001b[1;36m0\u001b[0m \u001b[1;32mif\u001b[0m \u001b[0mmath\u001b[0m\u001b[1;33m.\u001b[0m\u001b[0misnan\u001b[0m\u001b[1;33m(\u001b[0m\u001b[0mdados\u001b[0m\u001b[1;33m[\u001b[0m\u001b[0mi\u001b[0m\u001b[1;33m]\u001b[0m\u001b[1;33m.\u001b[0m\u001b[0miloc\u001b[0m\u001b[1;33m[\u001b[0m\u001b[0ma\u001b[0m\u001b[1;33m,\u001b[0m\u001b[0mb\u001b[0m\u001b[1;33m]\u001b[0m\u001b[1;33m)\u001b[0m \u001b[1;32melse\u001b[0m \u001b[0mdados\u001b[0m\u001b[1;33m[\u001b[0m\u001b[0mi\u001b[0m\u001b[1;33m]\u001b[0m\u001b[1;33m.\u001b[0m\u001b[0miloc\u001b[0m\u001b[1;33m[\u001b[0m\u001b[0ma\u001b[0m\u001b[1;33m,\u001b[0m\u001b[0mb\u001b[0m\u001b[1;33m]\u001b[0m \u001b[1;32mfor\u001b[0m \u001b[0mi\u001b[0m \u001b[1;32min\u001b[0m \u001b[0mrange\u001b[0m\u001b[1;33m(\u001b[0m\u001b[1;36m1\u001b[0m\u001b[1;33m,\u001b[0m\u001b[0mn\u001b[0m\u001b[1;33m+\u001b[0m\u001b[1;36m1\u001b[0m\u001b[1;33m)\u001b[0m\u001b[1;33m]\u001b[0m\u001b[1;33m\u001b[0m\u001b[1;33m\u001b[0m\u001b[0m\n\u001b[0;32m    210\u001b[0m                 \u001b[0mponderacao\u001b[0m \u001b[1;33m+=\u001b[0m \u001b[0mnp\u001b[0m\u001b[1;33m.\u001b[0m\u001b[0mdot\u001b[0m\u001b[1;33m(\u001b[0m\u001b[1;33m(\u001b[0m\u001b[1;36m1\u001b[0m\u001b[1;33m/\u001b[0m\u001b[0mn\u001b[0m\u001b[1;33m)\u001b[0m\u001b[1;33m,\u001b[0m\u001b[0mnp\u001b[0m\u001b[1;33m.\u001b[0m\u001b[0msum\u001b[0m\u001b[1;33m(\u001b[0m\u001b[1;33m[\u001b[0m\u001b[0mMs\u001b[0m\u001b[1;33m[\u001b[0m\u001b[0mi\u001b[0m\u001b[1;33m]\u001b[0m\u001b[1;33m*\u001b[0m\u001b[0mDi\u001b[0m\u001b[1;33m[\u001b[0m\u001b[0mi\u001b[0m\u001b[1;33m]\u001b[0m \u001b[1;32mfor\u001b[0m \u001b[0mi\u001b[0m \u001b[1;32min\u001b[0m \u001b[0mrange\u001b[0m\u001b[1;33m(\u001b[0m\u001b[0mlen\u001b[0m\u001b[1;33m(\u001b[0m\u001b[0mDi\u001b[0m\u001b[1;33m)\u001b[0m\u001b[1;33m)\u001b[0m\u001b[1;33m]\u001b[0m\u001b[1;33m)\u001b[0m\u001b[1;33m)\u001b[0m\u001b[1;33m\u001b[0m\u001b[1;33m\u001b[0m\u001b[0m\n",
      "\u001b[1;31mIndexError\u001b[0m: list index out of range"
     ]
    }
   ],
   "source": [
    "pinheiros = pd.concat([mimputacao.random_nan(mimputacao.linha_no_nan(pinheiros_16),0.05),\n",
    "                       mimputacao.random_nan(mimputacao.linha_no_nan(pinheiros_17),0.05),\n",
    "                       mimputacao.random_nan(mimputacao.linha_no_nan(pinheiros_18),0.05),\n",
    "                       mimputacao.random_nan(mimputacao.linha_no_nan(pinheiros_19),0.05),\n",
    "                       mimputacao.random_nan(mimputacao.linha_no_nan(pinheiros_20),0.05)])\n",
    "pinheiros.reset_index(drop=True,inplace=True)\n",
    "\n",
    "raio_pinheiros = [3.15,7.76,7.26]\n",
    "Pinheiros   = [pinheiros,\n",
    "               mimputacao.concatena([mimputacao.random_rows(ppredo_16,60),\n",
    "                          mimputacao.random_rows(ppredo_17,60),\n",
    "                          mimputacao.random_rows(ppredo_18,60),\n",
    "                          mimputacao.random_rows(ppredo_19,60),\n",
    "                          mimputacao.random_rows(ppredo_20,60)]),\n",
    "               mimputacao.concatena([mimputacao.random_rows(ppredo_16,60),\n",
    "                          mimputacao.random_rows(ppredo_17,60),\n",
    "                          mimputacao.random_rows(ppredo_18,60),\n",
    "                          mimputacao.random_rows(ppredo_19,60),\n",
    "                          mimputacao.random_rows(ppredo_20,60)]),               \n",
    "               mimputacao.concatena([mimputacao.random_rows(congonhas_16,60),\n",
    "                          mimputacao.random_rows(congonhas_17,60),\n",
    "                          mimputacao.random_rows(congonhas_18,60),\n",
    "                          mimputacao.random_rows(congonhas_19,60),\n",
    "                          mimputacao.random_rows(congonhas_20,60)])]\n",
    "\n",
    "media_completados,a,b,c = mimputacao.completa_serie_Media(pinheiros)\n",
    "em_completados,a,b,c    = mimputacao.completa_serie_EM(pinheiros)\n",
    "pr_completados,a,b,c    = mimputacao.completa_serie_ponderacao_regional(Pinheiros)\n",
    "iid_completados,a,b,c   = mimputacao.completa_serie_IID(Pinheiros,raio_pinheiros)\n",
    "\n",
    "resultados_media = mimputacao.testa_melhor_metodo(media_completados,pinheiros,'multiplicative')\n",
    "resultados_em    = mimputacao.testa_melhor_metodo(em_completados+1,pinheiros,'multiplicative')\n",
    "resultados_pr    = mimputacao.testa_melhor_metodo(pr_completados,pinheiros,'multiplicative')\n",
    "resultados_iid   = mimputacao.testa_melhor_metodo(iid_completados,pinheiros,'multiplicative')\n",
    "\n",
    "resultados = pd.concat([resultados_media,resultados_em,resultados_pr,resultados_iid])\n",
    "tipo = []\n",
    "rows = resultados_media.shape[0]\n",
    "for  i in [['Media' for _ in range(rows)],['EM' for _ in range(rows)],['PR' for _ in range(rows)],['IID' for _ in range(rows)]]:\n",
    "    for j in i:\n",
    "        tipo.append(j)\n",
    "\n",
    "resultados['Tipo'] = tipo\n",
    "resultados.reset_index(drop=True,inplace=True)\n",
    "\n",
    "resultados['MQE'].loc[resultados['MQE']> 1] = 1\n",
    "resultados['MQE'].loc[resultados['MQE']<-1] =-1\n",
    "resultados['VP'] .loc[resultados['VP'] > 1] = 1\n",
    "resultados['VP'] .loc[resultados['VP'] <-1] =-1\n",
    "resultados['MAE'].loc[resultados['MAE']> 1] = 1\n",
    "resultados['MAE'].loc[resultados['MAE']<-1] =-1\n",
    "\n",
    "fig, axes = plt.subplots(1,3,sharex=True, figsize=(16,8))\n",
    "sns.boxplot(ax=axes[0],x=\"Tipo\", y=\"MQE\", data=resultados)\n",
    "axes[0].set_title(\"MQE\")\n",
    "\n",
    "sns.boxplot(ax=axes[1],x=\"Tipo\", y=\"VP\" , data=resultados)\n",
    "axes[1].set_title(\"VP\")\n",
    "\n",
    "sns.boxplot(ax=axes[2],x=\"Tipo\", y=\"MAE\", data=resultados)\n",
    "axes[2].set_title(\"MAE\")\n",
    "plt.show()\n",
    "\n",
    "xeque_mate.iloc[1,4] = 'IID'"
   ]
  },
  {
   "cell_type": "markdown",
   "metadata": {
    "hidden": true
   },
   "source": [
    "Verificando pelos resultados acima, podemos ver que o método de preenchimento **IID(Interpolação do inverso da distância)** foi o mais apropriado para a base de dados da estação **Pinheiros**, pois apresentou uma boxplot muito pequeno que nos diz que houve pouca variação nos resultados."
   ]
  },
  {
   "cell_type": "markdown",
   "metadata": {
    "heading_collapsed": true
   },
   "source": [
    "# Conclusão"
   ]
  },
  {
   "cell_type": "code",
   "execution_count": null,
   "metadata": {
    "hidden": true
   },
   "outputs": [],
   "source": [
    "display(xeque_mate)"
   ]
  },
  {
   "cell_type": "markdown",
   "metadata": {
    "hidden": true
   },
   "source": [
    "O que pode concluir que tanto EM quanto IID são bons métodos para preenchimento dos dados"
   ]
  }
 ],
 "metadata": {
  "kernelspec": {
   "display_name": "Python 3 (ipykernel)",
   "language": "python",
   "name": "python3"
  },
  "language_info": {
   "codemirror_mode": {
    "name": "ipython",
    "version": 3
   },
   "file_extension": ".py",
   "mimetype": "text/x-python",
   "name": "python",
   "nbconvert_exporter": "python",
   "pygments_lexer": "ipython3",
   "version": "3.9.1"
  },
  "toc": {
   "base_numbering": 1,
   "nav_menu": {},
   "number_sections": true,
   "sideBar": true,
   "skip_h1_title": false,
   "title_cell": "Table of Contents",
   "title_sidebar": "Contents",
   "toc_cell": false,
   "toc_position": {},
   "toc_section_display": true,
   "toc_window_display": true
  }
 },
 "nbformat": 4,
 "nbformat_minor": 4
}
