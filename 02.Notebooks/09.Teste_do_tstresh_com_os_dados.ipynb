{
 "cells": [
  {
   "cell_type": "markdown",
   "metadata": {},
   "source": [
    "Este notebook é mais para ver as característica que seria extraida das séires"
   ]
  },
  {
   "cell_type": "markdown",
   "metadata": {},
   "source": [
    "# 1. Imports necessários"
   ]
  },
  {
   "cell_type": "code",
   "execution_count": 1,
   "metadata": {},
   "outputs": [],
   "source": [
    "import metodos_imputacao as m_imputacao\n",
    "from tsfresh import extract_features\n",
    "import funcoes_importantes as f_im\n",
    "import pandas as pd\n",
    "fi = f_im.funcoes_importantes()\n",
    "mimputacao = m_imputacao.metodos_de_imputacao()"
   ]
  },
  {
   "cell_type": "markdown",
   "metadata": {},
   "source": [
    "# 2. Carregar dados"
   ]
  },
  {
   "cell_type": "code",
   "execution_count": 2,
   "metadata": {},
   "outputs": [],
   "source": [
    "# Bases de Cerqueira Cesar \n",
    "\n",
    "ccesar_16 = pd.read_csv('../01.Dados/CSV/CO_Cerqueria_2016.csv').iloc[:-1,:]\n",
    "ccesar_17 = pd.read_csv('../01.Dados/CSV/CO_Cerqueria_2017.csv')\n",
    "ccesar_18 = pd.read_csv('../01.Dados/CSV/CO_Cerqueria_2018.csv')\n",
    "ccesar_19 = pd.read_csv('../01.Dados/CSV/CO_Cerqueria_2019.csv')\n",
    "ccesar_20 = pd.read_csv('../01.Dados/CSV/CO_Cerqueria_2020.csv').iloc[:-1,:]\n",
    "\n",
    "# Base de Congonhas\n",
    "\n",
    "congonhas_16 = pd.read_csv('../01.Dados/CSV/CO_Congonhas_2016.csv').iloc[:-1,:]\n",
    "congonhas_17 = pd.read_csv('../01.Dados/CSV/CO_Congonhas_2017.csv')\n",
    "congonhas_18 = pd.read_csv('../01.Dados/CSV/CO_Congonhas_2018.csv')\n",
    "congonhas_19 = pd.read_csv('../01.Dados/CSV/CO_Congonhas_2019.csv')\n",
    "congonhas_20 = pd.read_csv('../01.Dados/CSV/CO_Congonhas_2020.csv').iloc[:-1,:]\n",
    "\n",
    "# Base de Mooca\n",
    "\n",
    "mooca_16 = pd.read_csv('../01.Dados/CSV/CO_Mooca_2016.csv').iloc[:-1,:]\n",
    "mooca_17 = pd.read_csv('../01.Dados/CSV/CO_Mooca_2017.csv')\n",
    "mooca_18 = pd.read_csv('../01.Dados/CSV/CO_Mooca_2018.csv')\n",
    "mooca_19 = pd.read_csv('../01.Dados/CSV/CO_Mooca_2019.csv')\n",
    "mooca_20 = pd.read_csv('../01.Dados/CSV/CO_Mooca_2020.csv').iloc[:-1,:]\n",
    "\n",
    "# Base Parque Pedro II\n",
    "\n",
    "ppredo_16 = pd.read_csv('../01.Dados/CSV/CO_P_Pedro_2016.csv').iloc[:-1,:]\n",
    "ppredo_17 = pd.read_csv('../01.Dados/CSV/CO_P_Pedro_2017.csv')\n",
    "ppredo_18 = pd.read_csv('../01.Dados/CSV/CO_P_Pedro_2018.csv')\n",
    "ppredo_19 = pd.read_csv('../01.Dados/CSV/CO_P_Pedro_2019.csv')\n",
    "ppredo_20 = pd.read_csv('../01.Dados/CSV/CO_P_Pedro_2020.csv').iloc[:-1,:]\n",
    "\n",
    "# Base Pinheiros \n",
    "\n",
    "pinheiros_16 = pd.read_csv('../01.Dados/CSV/CO_Pinheiros_2016.csv').iloc[:-1,:]\n",
    "pinheiros_17 = pd.read_csv('../01.Dados/CSV/CO_Pinheiros_2017.csv')\n",
    "pinheiros_18 = pd.read_csv('../01.Dados/CSV/CO_Pinheiros_2018.csv')\n",
    "pinheiros_19 = pd.read_csv('../01.Dados/CSV/CO_Pinheiros_2019.csv')\n",
    "pinheiros_20 = pd.read_csv('../01.Dados/CSV/CO_Pinheiros_2020.csv').iloc[:-1,:]"
   ]
  },
  {
   "cell_type": "markdown",
   "metadata": {},
   "source": [
    "# 3. Tratamento de dados Faltantes"
   ]
  },
  {
   "cell_type": "markdown",
   "metadata": {},
   "source": [
    "# 3.1 Base de Cerqueira Cesar"
   ]
  },
  {
   "cell_type": "code",
   "execution_count": 3,
   "metadata": {},
   "outputs": [],
   "source": [
    "ccesar_16,a,b,c = mimputacao.completa_serie_Media(ccesar_16)\n",
    "ccesar_17,a,b,c = mimputacao.completa_serie_Media(ccesar_17)\n",
    "ccesar_18,a,b,c = mimputacao.completa_serie_Media(ccesar_18)\n",
    "ccesar_19,a,b,c = mimputacao.completa_serie_Media(ccesar_19)\n",
    "ccesar_20,a,b,c = mimputacao.completa_serie_Media(ccesar_20)"
   ]
  },
  {
   "cell_type": "markdown",
   "metadata": {},
   "source": [
    "# 3.2 Base de Congonhas"
   ]
  },
  {
   "cell_type": "code",
   "execution_count": 4,
   "metadata": {},
   "outputs": [
    {
     "ename": "IndexError",
     "evalue": "single positional indexer is out-of-bounds",
     "output_type": "error",
     "traceback": [
      "\u001b[1;31m---------------------------------------------------------------------------\u001b[0m",
      "\u001b[1;31mIndexError\u001b[0m                                Traceback (most recent call last)",
      "\u001b[1;32m~\\AppData\\Local\\Temp/ipykernel_18100/2103476857.py\u001b[0m in \u001b[0;36m<module>\u001b[1;34m\u001b[0m\n\u001b[0;32m      6\u001b[0m \u001b[0mCongonhas_20\u001b[0m   \u001b[1;33m=\u001b[0m \u001b[1;33m[\u001b[0m\u001b[0mcongonhas_20\u001b[0m\u001b[1;33m,\u001b[0m\u001b[0mpinheiros_20\u001b[0m\u001b[1;33m,\u001b[0m\u001b[0mccesar_20\u001b[0m\u001b[1;33m,\u001b[0m\u001b[0mppredo_20\u001b[0m\u001b[1;33m]\u001b[0m\u001b[1;33m\u001b[0m\u001b[1;33m\u001b[0m\u001b[0m\n\u001b[0;32m      7\u001b[0m \u001b[1;33m\u001b[0m\u001b[0m\n\u001b[1;32m----> 8\u001b[1;33m \u001b[0mcongonhas_16\u001b[0m\u001b[1;33m,\u001b[0m\u001b[0ma\u001b[0m\u001b[1;33m,\u001b[0m\u001b[0mb\u001b[0m\u001b[1;33m,\u001b[0m\u001b[0mc\u001b[0m \u001b[1;33m=\u001b[0m \u001b[0mmimputacao\u001b[0m\u001b[1;33m.\u001b[0m\u001b[0mcompleta_serie_IID\u001b[0m\u001b[1;33m(\u001b[0m\u001b[0mCongonhas_16\u001b[0m\u001b[1;33m,\u001b[0m\u001b[0mraio_congonhas\u001b[0m\u001b[1;33m)\u001b[0m\u001b[1;33m\u001b[0m\u001b[1;33m\u001b[0m\u001b[0m\n\u001b[0m\u001b[0;32m      9\u001b[0m \u001b[0mcongonhas_17\u001b[0m\u001b[1;33m,\u001b[0m\u001b[0ma\u001b[0m\u001b[1;33m,\u001b[0m\u001b[0mb\u001b[0m\u001b[1;33m,\u001b[0m\u001b[0mc\u001b[0m \u001b[1;33m=\u001b[0m \u001b[0mmimputacao\u001b[0m\u001b[1;33m.\u001b[0m\u001b[0mcompleta_serie_IID\u001b[0m\u001b[1;33m(\u001b[0m\u001b[0mCongonhas_17\u001b[0m\u001b[1;33m,\u001b[0m\u001b[0mraio_congonhas\u001b[0m\u001b[1;33m)\u001b[0m\u001b[1;33m\u001b[0m\u001b[1;33m\u001b[0m\u001b[0m\n\u001b[0;32m     10\u001b[0m \u001b[0mcongonhas_18\u001b[0m\u001b[1;33m,\u001b[0m\u001b[0ma\u001b[0m\u001b[1;33m,\u001b[0m\u001b[0mb\u001b[0m\u001b[1;33m,\u001b[0m\u001b[0mc\u001b[0m \u001b[1;33m=\u001b[0m \u001b[0mmimputacao\u001b[0m\u001b[1;33m.\u001b[0m\u001b[0mcompleta_serie_IID\u001b[0m\u001b[1;33m(\u001b[0m\u001b[0mCongonhas_18\u001b[0m\u001b[1;33m,\u001b[0m\u001b[0mraio_congonhas\u001b[0m\u001b[1;33m)\u001b[0m\u001b[1;33m\u001b[0m\u001b[1;33m\u001b[0m\u001b[0m\n",
      "\u001b[1;32m~\\Desktop\\S10\\1_TCC\\Analise_Quarentena\\02.Notebooks\\metodos_imputacao.py\u001b[0m in \u001b[0;36mcompleta_serie_IID\u001b[1;34m(self, dados, di)\u001b[0m\n\u001b[0;32m    233\u001b[0m         \u001b[1;32mfor\u001b[0m \u001b[0mindeces\u001b[0m \u001b[1;32min\u001b[0m \u001b[0mDx\u001b[0m\u001b[1;33m:\u001b[0m\u001b[1;33m\u001b[0m\u001b[1;33m\u001b[0m\u001b[0m\n\u001b[0;32m    234\u001b[0m             \u001b[0ma\u001b[0m\u001b[1;33m,\u001b[0m\u001b[0mb\u001b[0m \u001b[1;33m=\u001b[0m \u001b[0mindeces\u001b[0m\u001b[1;33m\u001b[0m\u001b[1;33m\u001b[0m\u001b[0m\n\u001b[1;32m--> 235\u001b[1;33m             \u001b[0mDi\u001b[0m \u001b[1;33m=\u001b[0m \u001b[1;33m[\u001b[0m\u001b[1;36m0\u001b[0m \u001b[1;32mif\u001b[0m \u001b[0mmath\u001b[0m\u001b[1;33m.\u001b[0m\u001b[0misnan\u001b[0m\u001b[1;33m(\u001b[0m\u001b[0mdados\u001b[0m\u001b[1;33m[\u001b[0m\u001b[0mi\u001b[0m\u001b[1;33m]\u001b[0m\u001b[1;33m.\u001b[0m\u001b[0miloc\u001b[0m\u001b[1;33m[\u001b[0m\u001b[0ma\u001b[0m\u001b[1;33m,\u001b[0m\u001b[0mb\u001b[0m\u001b[1;33m]\u001b[0m\u001b[1;33m)\u001b[0m \u001b[1;32melse\u001b[0m \u001b[0mdados\u001b[0m\u001b[1;33m[\u001b[0m\u001b[0mi\u001b[0m\u001b[1;33m]\u001b[0m\u001b[1;33m.\u001b[0m\u001b[0miloc\u001b[0m\u001b[1;33m[\u001b[0m\u001b[0ma\u001b[0m\u001b[1;33m,\u001b[0m\u001b[0mb\u001b[0m\u001b[1;33m]\u001b[0m \u001b[1;32mfor\u001b[0m \u001b[0mi\u001b[0m \u001b[1;32min\u001b[0m \u001b[0mrange\u001b[0m\u001b[1;33m(\u001b[0m\u001b[1;36m1\u001b[0m\u001b[1;33m,\u001b[0m\u001b[0mlen\u001b[0m\u001b[1;33m(\u001b[0m\u001b[0mdados\u001b[0m\u001b[1;33m)\u001b[0m\u001b[1;33m)\u001b[0m\u001b[1;33m]\u001b[0m\u001b[1;33m\u001b[0m\u001b[1;33m\u001b[0m\u001b[0m\n\u001b[0m\u001b[0;32m    236\u001b[0m             \u001b[0maux_dados\u001b[0m\u001b[1;33m.\u001b[0m\u001b[0miloc\u001b[0m\u001b[1;33m[\u001b[0m\u001b[0ma\u001b[0m\u001b[1;33m,\u001b[0m\u001b[0mb\u001b[0m\u001b[1;33m]\u001b[0m \u001b[1;33m=\u001b[0m \u001b[0mnp\u001b[0m\u001b[1;33m.\u001b[0m\u001b[0msum\u001b[0m\u001b[1;33m(\u001b[0m\u001b[1;33m[\u001b[0m\u001b[0mDi\u001b[0m\u001b[1;33m[\u001b[0m\u001b[0mi\u001b[0m\u001b[1;33m]\u001b[0m\u001b[1;33m/\u001b[0m\u001b[0mdi\u001b[0m\u001b[1;33m[\u001b[0m\u001b[0mi\u001b[0m\u001b[1;33m]\u001b[0m \u001b[1;32mfor\u001b[0m \u001b[0mi\u001b[0m \u001b[1;32min\u001b[0m \u001b[0mrange\u001b[0m\u001b[1;33m(\u001b[0m\u001b[0mlen\u001b[0m\u001b[1;33m(\u001b[0m\u001b[0mDi\u001b[0m\u001b[1;33m)\u001b[0m\u001b[1;33m)\u001b[0m\u001b[1;33m]\u001b[0m\u001b[1;33m)\u001b[0m\u001b[1;33m/\u001b[0m\u001b[0mnp\u001b[0m\u001b[1;33m.\u001b[0m\u001b[0msum\u001b[0m\u001b[1;33m(\u001b[0m\u001b[1;33m[\u001b[0m\u001b[1;36m1\u001b[0m\u001b[1;33m/\u001b[0m\u001b[0mdi\u001b[0m\u001b[1;33m[\u001b[0m\u001b[0mi\u001b[0m\u001b[1;33m]\u001b[0m \u001b[1;32mfor\u001b[0m \u001b[0mi\u001b[0m \u001b[1;32min\u001b[0m \u001b[0mrange\u001b[0m\u001b[1;33m(\u001b[0m\u001b[0mlen\u001b[0m\u001b[1;33m(\u001b[0m\u001b[0mDi\u001b[0m\u001b[1;33m)\u001b[0m\u001b[1;33m)\u001b[0m\u001b[1;33m]\u001b[0m\u001b[1;33m)\u001b[0m\u001b[1;33m\u001b[0m\u001b[1;33m\u001b[0m\u001b[0m\n\u001b[0;32m    237\u001b[0m \u001b[1;33m\u001b[0m\u001b[0m\n",
      "\u001b[1;32m~\\Desktop\\S10\\1_TCC\\Analise_Quarentena\\02.Notebooks\\metodos_imputacao.py\u001b[0m in \u001b[0;36m<listcomp>\u001b[1;34m(.0)\u001b[0m\n\u001b[0;32m    233\u001b[0m         \u001b[1;32mfor\u001b[0m \u001b[0mindeces\u001b[0m \u001b[1;32min\u001b[0m \u001b[0mDx\u001b[0m\u001b[1;33m:\u001b[0m\u001b[1;33m\u001b[0m\u001b[1;33m\u001b[0m\u001b[0m\n\u001b[0;32m    234\u001b[0m             \u001b[0ma\u001b[0m\u001b[1;33m,\u001b[0m\u001b[0mb\u001b[0m \u001b[1;33m=\u001b[0m \u001b[0mindeces\u001b[0m\u001b[1;33m\u001b[0m\u001b[1;33m\u001b[0m\u001b[0m\n\u001b[1;32m--> 235\u001b[1;33m             \u001b[0mDi\u001b[0m \u001b[1;33m=\u001b[0m \u001b[1;33m[\u001b[0m\u001b[1;36m0\u001b[0m \u001b[1;32mif\u001b[0m \u001b[0mmath\u001b[0m\u001b[1;33m.\u001b[0m\u001b[0misnan\u001b[0m\u001b[1;33m(\u001b[0m\u001b[0mdados\u001b[0m\u001b[1;33m[\u001b[0m\u001b[0mi\u001b[0m\u001b[1;33m]\u001b[0m\u001b[1;33m.\u001b[0m\u001b[0miloc\u001b[0m\u001b[1;33m[\u001b[0m\u001b[0ma\u001b[0m\u001b[1;33m,\u001b[0m\u001b[0mb\u001b[0m\u001b[1;33m]\u001b[0m\u001b[1;33m)\u001b[0m \u001b[1;32melse\u001b[0m \u001b[0mdados\u001b[0m\u001b[1;33m[\u001b[0m\u001b[0mi\u001b[0m\u001b[1;33m]\u001b[0m\u001b[1;33m.\u001b[0m\u001b[0miloc\u001b[0m\u001b[1;33m[\u001b[0m\u001b[0ma\u001b[0m\u001b[1;33m,\u001b[0m\u001b[0mb\u001b[0m\u001b[1;33m]\u001b[0m \u001b[1;32mfor\u001b[0m \u001b[0mi\u001b[0m \u001b[1;32min\u001b[0m \u001b[0mrange\u001b[0m\u001b[1;33m(\u001b[0m\u001b[1;36m1\u001b[0m\u001b[1;33m,\u001b[0m\u001b[0mlen\u001b[0m\u001b[1;33m(\u001b[0m\u001b[0mdados\u001b[0m\u001b[1;33m)\u001b[0m\u001b[1;33m)\u001b[0m\u001b[1;33m]\u001b[0m\u001b[1;33m\u001b[0m\u001b[1;33m\u001b[0m\u001b[0m\n\u001b[0m\u001b[0;32m    236\u001b[0m             \u001b[0maux_dados\u001b[0m\u001b[1;33m.\u001b[0m\u001b[0miloc\u001b[0m\u001b[1;33m[\u001b[0m\u001b[0ma\u001b[0m\u001b[1;33m,\u001b[0m\u001b[0mb\u001b[0m\u001b[1;33m]\u001b[0m \u001b[1;33m=\u001b[0m \u001b[0mnp\u001b[0m\u001b[1;33m.\u001b[0m\u001b[0msum\u001b[0m\u001b[1;33m(\u001b[0m\u001b[1;33m[\u001b[0m\u001b[0mDi\u001b[0m\u001b[1;33m[\u001b[0m\u001b[0mi\u001b[0m\u001b[1;33m]\u001b[0m\u001b[1;33m/\u001b[0m\u001b[0mdi\u001b[0m\u001b[1;33m[\u001b[0m\u001b[0mi\u001b[0m\u001b[1;33m]\u001b[0m \u001b[1;32mfor\u001b[0m \u001b[0mi\u001b[0m \u001b[1;32min\u001b[0m \u001b[0mrange\u001b[0m\u001b[1;33m(\u001b[0m\u001b[0mlen\u001b[0m\u001b[1;33m(\u001b[0m\u001b[0mDi\u001b[0m\u001b[1;33m)\u001b[0m\u001b[1;33m)\u001b[0m\u001b[1;33m]\u001b[0m\u001b[1;33m)\u001b[0m\u001b[1;33m/\u001b[0m\u001b[0mnp\u001b[0m\u001b[1;33m.\u001b[0m\u001b[0msum\u001b[0m\u001b[1;33m(\u001b[0m\u001b[1;33m[\u001b[0m\u001b[1;36m1\u001b[0m\u001b[1;33m/\u001b[0m\u001b[0mdi\u001b[0m\u001b[1;33m[\u001b[0m\u001b[0mi\u001b[0m\u001b[1;33m]\u001b[0m \u001b[1;32mfor\u001b[0m \u001b[0mi\u001b[0m \u001b[1;32min\u001b[0m \u001b[0mrange\u001b[0m\u001b[1;33m(\u001b[0m\u001b[0mlen\u001b[0m\u001b[1;33m(\u001b[0m\u001b[0mDi\u001b[0m\u001b[1;33m)\u001b[0m\u001b[1;33m)\u001b[0m\u001b[1;33m]\u001b[0m\u001b[1;33m)\u001b[0m\u001b[1;33m\u001b[0m\u001b[1;33m\u001b[0m\u001b[0m\n\u001b[0;32m    237\u001b[0m \u001b[1;33m\u001b[0m\u001b[0m\n",
      "\u001b[1;32mc:\\users\\samue\\miniconda3\\lib\\site-packages\\pandas\\core\\indexing.py\u001b[0m in \u001b[0;36m__getitem__\u001b[1;34m(self, key)\u001b[0m\n\u001b[0;32m    887\u001b[0m                     \u001b[1;31m# AttributeError for IntervalTree get_value\u001b[0m\u001b[1;33m\u001b[0m\u001b[1;33m\u001b[0m\u001b[1;33m\u001b[0m\u001b[0m\n\u001b[0;32m    888\u001b[0m                     \u001b[1;32mreturn\u001b[0m \u001b[0mself\u001b[0m\u001b[1;33m.\u001b[0m\u001b[0mobj\u001b[0m\u001b[1;33m.\u001b[0m\u001b[0m_get_value\u001b[0m\u001b[1;33m(\u001b[0m\u001b[1;33m*\u001b[0m\u001b[0mkey\u001b[0m\u001b[1;33m,\u001b[0m \u001b[0mtakeable\u001b[0m\u001b[1;33m=\u001b[0m\u001b[0mself\u001b[0m\u001b[1;33m.\u001b[0m\u001b[0m_takeable\u001b[0m\u001b[1;33m)\u001b[0m\u001b[1;33m\u001b[0m\u001b[1;33m\u001b[0m\u001b[0m\n\u001b[1;32m--> 889\u001b[1;33m             \u001b[1;32mreturn\u001b[0m \u001b[0mself\u001b[0m\u001b[1;33m.\u001b[0m\u001b[0m_getitem_tuple\u001b[0m\u001b[1;33m(\u001b[0m\u001b[0mkey\u001b[0m\u001b[1;33m)\u001b[0m\u001b[1;33m\u001b[0m\u001b[1;33m\u001b[0m\u001b[0m\n\u001b[0m\u001b[0;32m    890\u001b[0m         \u001b[1;32melse\u001b[0m\u001b[1;33m:\u001b[0m\u001b[1;33m\u001b[0m\u001b[1;33m\u001b[0m\u001b[0m\n\u001b[0;32m    891\u001b[0m             \u001b[1;31m# we by definition only have the 0th axis\u001b[0m\u001b[1;33m\u001b[0m\u001b[1;33m\u001b[0m\u001b[1;33m\u001b[0m\u001b[0m\n",
      "\u001b[1;32mc:\\users\\samue\\miniconda3\\lib\\site-packages\\pandas\\core\\indexing.py\u001b[0m in \u001b[0;36m_getitem_tuple\u001b[1;34m(self, tup)\u001b[0m\n\u001b[0;32m   1448\u001b[0m     \u001b[1;32mdef\u001b[0m \u001b[0m_getitem_tuple\u001b[0m\u001b[1;33m(\u001b[0m\u001b[0mself\u001b[0m\u001b[1;33m,\u001b[0m \u001b[0mtup\u001b[0m\u001b[1;33m:\u001b[0m \u001b[0mTuple\u001b[0m\u001b[1;33m)\u001b[0m\u001b[1;33m:\u001b[0m\u001b[1;33m\u001b[0m\u001b[1;33m\u001b[0m\u001b[0m\n\u001b[0;32m   1449\u001b[0m \u001b[1;33m\u001b[0m\u001b[0m\n\u001b[1;32m-> 1450\u001b[1;33m         \u001b[0mself\u001b[0m\u001b[1;33m.\u001b[0m\u001b[0m_has_valid_tuple\u001b[0m\u001b[1;33m(\u001b[0m\u001b[0mtup\u001b[0m\u001b[1;33m)\u001b[0m\u001b[1;33m\u001b[0m\u001b[1;33m\u001b[0m\u001b[0m\n\u001b[0m\u001b[0;32m   1451\u001b[0m         \u001b[1;32mwith\u001b[0m \u001b[0msuppress\u001b[0m\u001b[1;33m(\u001b[0m\u001b[0mIndexingError\u001b[0m\u001b[1;33m)\u001b[0m\u001b[1;33m:\u001b[0m\u001b[1;33m\u001b[0m\u001b[1;33m\u001b[0m\u001b[0m\n\u001b[0;32m   1452\u001b[0m             \u001b[1;32mreturn\u001b[0m \u001b[0mself\u001b[0m\u001b[1;33m.\u001b[0m\u001b[0m_getitem_lowerdim\u001b[0m\u001b[1;33m(\u001b[0m\u001b[0mtup\u001b[0m\u001b[1;33m)\u001b[0m\u001b[1;33m\u001b[0m\u001b[1;33m\u001b[0m\u001b[0m\n",
      "\u001b[1;32mc:\\users\\samue\\miniconda3\\lib\\site-packages\\pandas\\core\\indexing.py\u001b[0m in \u001b[0;36m_has_valid_tuple\u001b[1;34m(self, key)\u001b[0m\n\u001b[0;32m    721\u001b[0m         \u001b[1;32mfor\u001b[0m \u001b[0mi\u001b[0m\u001b[1;33m,\u001b[0m \u001b[0mk\u001b[0m \u001b[1;32min\u001b[0m \u001b[0menumerate\u001b[0m\u001b[1;33m(\u001b[0m\u001b[0mkey\u001b[0m\u001b[1;33m)\u001b[0m\u001b[1;33m:\u001b[0m\u001b[1;33m\u001b[0m\u001b[1;33m\u001b[0m\u001b[0m\n\u001b[0;32m    722\u001b[0m             \u001b[1;32mtry\u001b[0m\u001b[1;33m:\u001b[0m\u001b[1;33m\u001b[0m\u001b[1;33m\u001b[0m\u001b[0m\n\u001b[1;32m--> 723\u001b[1;33m                 \u001b[0mself\u001b[0m\u001b[1;33m.\u001b[0m\u001b[0m_validate_key\u001b[0m\u001b[1;33m(\u001b[0m\u001b[0mk\u001b[0m\u001b[1;33m,\u001b[0m \u001b[0mi\u001b[0m\u001b[1;33m)\u001b[0m\u001b[1;33m\u001b[0m\u001b[1;33m\u001b[0m\u001b[0m\n\u001b[0m\u001b[0;32m    724\u001b[0m             \u001b[1;32mexcept\u001b[0m \u001b[0mValueError\u001b[0m \u001b[1;32mas\u001b[0m \u001b[0merr\u001b[0m\u001b[1;33m:\u001b[0m\u001b[1;33m\u001b[0m\u001b[1;33m\u001b[0m\u001b[0m\n\u001b[0;32m    725\u001b[0m                 raise ValueError(\n",
      "\u001b[1;32mc:\\users\\samue\\miniconda3\\lib\\site-packages\\pandas\\core\\indexing.py\u001b[0m in \u001b[0;36m_validate_key\u001b[1;34m(self, key, axis)\u001b[0m\n\u001b[0;32m   1356\u001b[0m             \u001b[1;32mreturn\u001b[0m\u001b[1;33m\u001b[0m\u001b[1;33m\u001b[0m\u001b[0m\n\u001b[0;32m   1357\u001b[0m         \u001b[1;32melif\u001b[0m \u001b[0mis_integer\u001b[0m\u001b[1;33m(\u001b[0m\u001b[0mkey\u001b[0m\u001b[1;33m)\u001b[0m\u001b[1;33m:\u001b[0m\u001b[1;33m\u001b[0m\u001b[1;33m\u001b[0m\u001b[0m\n\u001b[1;32m-> 1358\u001b[1;33m             \u001b[0mself\u001b[0m\u001b[1;33m.\u001b[0m\u001b[0m_validate_integer\u001b[0m\u001b[1;33m(\u001b[0m\u001b[0mkey\u001b[0m\u001b[1;33m,\u001b[0m \u001b[0maxis\u001b[0m\u001b[1;33m)\u001b[0m\u001b[1;33m\u001b[0m\u001b[1;33m\u001b[0m\u001b[0m\n\u001b[0m\u001b[0;32m   1359\u001b[0m         \u001b[1;32melif\u001b[0m \u001b[0misinstance\u001b[0m\u001b[1;33m(\u001b[0m\u001b[0mkey\u001b[0m\u001b[1;33m,\u001b[0m \u001b[0mtuple\u001b[0m\u001b[1;33m)\u001b[0m\u001b[1;33m:\u001b[0m\u001b[1;33m\u001b[0m\u001b[1;33m\u001b[0m\u001b[0m\n\u001b[0;32m   1360\u001b[0m             \u001b[1;31m# a tuple should already have been caught by this point\u001b[0m\u001b[1;33m\u001b[0m\u001b[1;33m\u001b[0m\u001b[1;33m\u001b[0m\u001b[0m\n",
      "\u001b[1;32mc:\\users\\samue\\miniconda3\\lib\\site-packages\\pandas\\core\\indexing.py\u001b[0m in \u001b[0;36m_validate_integer\u001b[1;34m(self, key, axis)\u001b[0m\n\u001b[0;32m   1442\u001b[0m         \u001b[0mlen_axis\u001b[0m \u001b[1;33m=\u001b[0m \u001b[0mlen\u001b[0m\u001b[1;33m(\u001b[0m\u001b[0mself\u001b[0m\u001b[1;33m.\u001b[0m\u001b[0mobj\u001b[0m\u001b[1;33m.\u001b[0m\u001b[0m_get_axis\u001b[0m\u001b[1;33m(\u001b[0m\u001b[0maxis\u001b[0m\u001b[1;33m)\u001b[0m\u001b[1;33m)\u001b[0m\u001b[1;33m\u001b[0m\u001b[1;33m\u001b[0m\u001b[0m\n\u001b[0;32m   1443\u001b[0m         \u001b[1;32mif\u001b[0m \u001b[0mkey\u001b[0m \u001b[1;33m>=\u001b[0m \u001b[0mlen_axis\u001b[0m \u001b[1;32mor\u001b[0m \u001b[0mkey\u001b[0m \u001b[1;33m<\u001b[0m \u001b[1;33m-\u001b[0m\u001b[0mlen_axis\u001b[0m\u001b[1;33m:\u001b[0m\u001b[1;33m\u001b[0m\u001b[1;33m\u001b[0m\u001b[0m\n\u001b[1;32m-> 1444\u001b[1;33m             \u001b[1;32mraise\u001b[0m \u001b[0mIndexError\u001b[0m\u001b[1;33m(\u001b[0m\u001b[1;34m\"single positional indexer is out-of-bounds\"\u001b[0m\u001b[1;33m)\u001b[0m\u001b[1;33m\u001b[0m\u001b[1;33m\u001b[0m\u001b[0m\n\u001b[0m\u001b[0;32m   1445\u001b[0m \u001b[1;33m\u001b[0m\u001b[0m\n\u001b[0;32m   1446\u001b[0m     \u001b[1;31m# -------------------------------------------------------------------\u001b[0m\u001b[1;33m\u001b[0m\u001b[1;33m\u001b[0m\u001b[1;33m\u001b[0m\u001b[0m\n",
      "\u001b[1;31mIndexError\u001b[0m: single positional indexer is out-of-bounds"
     ]
    }
   ],
   "source": [
    "raio_congonhas = [2.79,7.26,7,8.73]\n",
    "Congonhas_16   = [congonhas_16,pinheiros_16,ccesar_16,ppredo_16]\n",
    "Congonhas_17   = [congonhas_17,pinheiros_17,ccesar_17,ppredo_17]\n",
    "Congonhas_18   = [congonhas_18,pinheiros_18,ccesar_18,ppredo_18]\n",
    "Congonhas_19   = [congonhas_19,pinheiros_19,ccesar_19,ppredo_19]\n",
    "Congonhas_20   = [congonhas_20,pinheiros_20,ccesar_20,ppredo_20]\n",
    "\n",
    "congonhas_16,a,b,c = mimputacao.completa_serie_IID(Congonhas_16,raio_congonhas)\n",
    "congonhas_17,a,b,c = mimputacao.completa_serie_IID(Congonhas_17,raio_congonhas)\n",
    "congonhas_18,a,b,c = mimputacao.completa_serie_IID(Congonhas_18,raio_congonhas)\n",
    "congonhas_19,a,b,c = mimputacao.completa_serie_IID(Congonhas_19,raio_congonhas)\n",
    "congonhas_20,a,b,c = mimputacao.completa_serie_IID(Congonhas_20,raio_congonhas)"
   ]
  },
  {
   "cell_type": "markdown",
   "metadata": {},
   "source": [
    "# 3.3 Base de Mooca"
   ]
  },
  {
   "cell_type": "code",
   "execution_count": 9,
   "metadata": {},
   "outputs": [],
   "source": [
    "mooca_16,a,b,c = mimputacao.completa_serie_EM(mooca_16)\n",
    "mooca_17,a,b,c = mimputacao.completa_serie_EM(mooca_17)\n",
    "mooca_18,a,b,c = mimputacao.completa_serie_EM(mooca_18)\n",
    "mooca_19,a,b,c = mimputacao.completa_serie_EM(mooca_19)\n",
    "mooca_20,a,b,c = mimputacao.completa_serie_EM(mooca_20)"
   ]
  },
  {
   "cell_type": "markdown",
   "metadata": {},
   "source": [
    "# 3.4 Base Parque Pedro II"
   ]
  },
  {
   "cell_type": "code",
   "execution_count": 10,
   "metadata": {},
   "outputs": [
    {
     "ename": "NameError",
     "evalue": "name 'ibirapuera_16' is not defined",
     "output_type": "error",
     "traceback": [
      "\u001b[1;31m---------------------------------------------------------------------------\u001b[0m",
      "\u001b[1;31mNameError\u001b[0m                                 Traceback (most recent call last)",
      "\u001b[1;32m~\\AppData\\Local\\Temp/ipykernel_9628/2552358628.py\u001b[0m in \u001b[0;36m<module>\u001b[1;34m\u001b[0m\n\u001b[0;32m      1\u001b[0m \u001b[0mraio_parque_pedro_II\u001b[0m \u001b[1;33m=\u001b[0m \u001b[1;33m[\u001b[0m\u001b[1;36m4.7\u001b[0m\u001b[1;33m,\u001b[0m\u001b[1;36m4.65\u001b[0m\u001b[1;33m,\u001b[0m\u001b[1;36m7.76\u001b[0m\u001b[1;33m,\u001b[0m\u001b[1;36m6.14\u001b[0m\u001b[1;33m,\u001b[0m\u001b[1;36m8.73\u001b[0m\u001b[1;33m]\u001b[0m\u001b[1;33m\u001b[0m\u001b[1;33m\u001b[0m\u001b[0m\n\u001b[1;32m----> 2\u001b[1;33m \u001b[0mParque_Pedro_II_16\u001b[0m   \u001b[1;33m=\u001b[0m \u001b[1;33m[\u001b[0m\u001b[0mppredo_16\u001b[0m\u001b[1;33m,\u001b[0m\u001b[0mmooca_16\u001b[0m\u001b[1;33m,\u001b[0m\u001b[0mccesar_16\u001b[0m\u001b[1;33m,\u001b[0m\u001b[0mpinheiros_16\u001b[0m\u001b[1;33m,\u001b[0m\u001b[0mibirapuera_16\u001b[0m\u001b[1;33m,\u001b[0m\u001b[0mcongonhas_16\u001b[0m\u001b[1;33m]\u001b[0m\u001b[1;33m\u001b[0m\u001b[1;33m\u001b[0m\u001b[0m\n\u001b[0m\u001b[0;32m      3\u001b[0m \u001b[0mParque_Pedro_II_17\u001b[0m   \u001b[1;33m=\u001b[0m \u001b[1;33m[\u001b[0m\u001b[0mppredo_17\u001b[0m\u001b[1;33m,\u001b[0m\u001b[0mmooca_17\u001b[0m\u001b[1;33m,\u001b[0m\u001b[0mccesar_17\u001b[0m\u001b[1;33m,\u001b[0m\u001b[0mpinheiros_17\u001b[0m\u001b[1;33m,\u001b[0m\u001b[0mibirapuera_17\u001b[0m\u001b[1;33m,\u001b[0m\u001b[0mcongonhas_17\u001b[0m\u001b[1;33m]\u001b[0m\u001b[1;33m\u001b[0m\u001b[1;33m\u001b[0m\u001b[0m\n\u001b[0;32m      4\u001b[0m \u001b[0mParque_Pedro_II_18\u001b[0m   \u001b[1;33m=\u001b[0m \u001b[1;33m[\u001b[0m\u001b[0mppredo_18\u001b[0m\u001b[1;33m,\u001b[0m\u001b[0mmooca_18\u001b[0m\u001b[1;33m,\u001b[0m\u001b[0mccesar_18\u001b[0m\u001b[1;33m,\u001b[0m\u001b[0mpinheiros_18\u001b[0m\u001b[1;33m,\u001b[0m\u001b[0mibirapuera_18\u001b[0m\u001b[1;33m,\u001b[0m\u001b[0mcongonhas_18\u001b[0m\u001b[1;33m]\u001b[0m\u001b[1;33m\u001b[0m\u001b[1;33m\u001b[0m\u001b[0m\n\u001b[0;32m      5\u001b[0m \u001b[0mParque_Pedro_II_19\u001b[0m   \u001b[1;33m=\u001b[0m \u001b[1;33m[\u001b[0m\u001b[0mppredo_19\u001b[0m\u001b[1;33m,\u001b[0m\u001b[0mmooca_19\u001b[0m\u001b[1;33m,\u001b[0m\u001b[0mccesar_19\u001b[0m\u001b[1;33m,\u001b[0m\u001b[0mpinheiros_19\u001b[0m\u001b[1;33m,\u001b[0m\u001b[0mibirapuera_19\u001b[0m\u001b[1;33m,\u001b[0m\u001b[0mcongonhas_19\u001b[0m\u001b[1;33m]\u001b[0m\u001b[1;33m\u001b[0m\u001b[1;33m\u001b[0m\u001b[0m\n",
      "\u001b[1;31mNameError\u001b[0m: name 'ibirapuera_16' is not defined"
     ]
    }
   ],
   "source": [
    "raio_parque_pedro_II = [4.7,4.65,7.76,6.14,8.73]\n",
    "Parque_Pedro_II_16   = [ppredo_16,mooca_16,ccesar_16,pinheiros_16,ibirapuera_16,congonhas_16]\n",
    "Parque_Pedro_II_17   = [ppredo_17,mooca_17,ccesar_17,pinheiros_17,ibirapuera_17,congonhas_17]\n",
    "Parque_Pedro_II_18   = [ppredo_18,mooca_18,ccesar_18,pinheiros_18,ibirapuera_18,congonhas_18]\n",
    "Parque_Pedro_II_19   = [ppredo_19,mooca_19,ccesar_19,pinheiros_19,ibirapuera_19,congonhas_19]\n",
    "Parque_Pedro_II_20   = [ppredo_20,mooca_20,ccesar_20,pinheiros_20,ibirapuera_20,congonhas_20]\n",
    "\n",
    "ppredo_16,a,b,c = mimputacao.completa_serie_IID(Parque_Pedro_II_16,raio_parque_pedro_II)\n",
    "ppredo_17,a,b,c = mimputacao.completa_serie_IID(Parque_Pedro_II_17,raio_parque_pedro_II)\n",
    "ppredo_18,a,b,c = mimputacao.completa_serie_IID(Parque_Pedro_II_18,raio_parque_pedro_II)\n",
    "ppredo_19,a,b,c = mimputacao.completa_serie_IID(Parque_Pedro_II_19,raio_parque_pedro_II)\n",
    "ppredo_20,a,b,c = mimputacao.completa_serie_IID(Parque_Pedro_II_20,raio_parque_pedro_II)"
   ]
  },
  {
   "cell_type": "markdown",
   "metadata": {},
   "source": [
    "# 3.5 Base Pinheiros "
   ]
  },
  {
   "cell_type": "code",
   "execution_count": null,
   "metadata": {},
   "outputs": [],
   "source": [
    "pinheiros_16,a,b,c = mimputacao.completa_serie_EM(pinheiros_16)\n",
    "pinheiros_17,a,b,c = mimputacao.completa_serie_EM(pinheiros_17)\n",
    "pinheiros_18,a,b,c = mimputacao.completa_serie_EM(pinheiros_18)\n",
    "pinheiros_19,a,b,c = mimputacao.completa_serie_EM(pinheiros_19)\n",
    "pinheiros_20,a,b,c = mimputacao.completa_serie_EM(pinheiros_20)"
   ]
  },
  {
   "cell_type": "markdown",
   "metadata": {},
   "source": [
    "# 3.6 Base Ibirapuera"
   ]
  },
  {
   "cell_type": "code",
   "execution_count": null,
   "metadata": {},
   "outputs": [],
   "source": [
    "ibirapuera_16,a,b,c = mimputacao.completa_serie_EM(ibirapuera_16)\n",
    "ibirapuera_17,a,b,c = mimputacao.completa_serie_EM(ibirapuera_17)\n",
    "ibirapuera_18,a,b,c = mimputacao.completa_serie_EM(ibirapuera_18)\n",
    "ibirapuera_19,a,b,c = mimputacao.completa_serie_EM(ibirapuera_19)\n",
    "ibirapuera_20,a,b,c = mimputacao.completa_serie_EM(ibirapuera_20)"
   ]
  },
  {
   "cell_type": "markdown",
   "metadata": {},
   "source": [
    "# 4. Teste com tstresh"
   ]
  },
  {
   "cell_type": "markdown",
   "metadata": {},
   "source": [
    "# 4.1 Base Cerqueira"
   ]
  },
  {
   "cell_type": "code",
   "execution_count": null,
   "metadata": {},
   "outputs": [],
   "source": [
    "ccesar     = fi.junta(ccesar_16,ccesar_17,ccesar_18,ccesar_19,ccesar_20,[1,2,3,4,5])\n",
    "congonhas  = fi.junta(congonhas_16,congonhas_17,congonhas_18,congonhas_19,congonhas_20,[6,7,8,9,10])\n",
    "mooca      = fi.junta(mooca_16,mooca_17,mooca_18,mooca_19,mooca_20,[11,12,13,14,15])\n",
    "ppedro     = fi.junta(ppredo_16,ppredo_17,ppredo_18,ppredo_19,ppredo_20,[16,17,18,19,20])\n",
    "ibirapuera = fi.junta(ibirapuera_16,ibirapuera_17,ibirapuera_18,ibirapuera_19,ibirapuera_20,[16,17,18,19,20])\n",
    "\n",
    "juntas = pd.concat([ccesar,congonhas,mooca,ppedro,ibirapuera])\n",
    "juntas.reset_index(drop=True,inplace=True)\n",
    "juntas.fillna(0,inplace=True)\n",
    "juntas"
   ]
  },
  {
   "cell_type": "code",
   "execution_count": null,
   "metadata": {},
   "outputs": [],
   "source": [
    "extracted_features = extract_features(juntas,column_id='id',column_sort='time')"
   ]
  },
  {
   "cell_type": "code",
   "execution_count": null,
   "metadata": {},
   "outputs": [],
   "source": [
    "extracted_features"
   ]
  }
 ],
 "metadata": {
  "kernelspec": {
   "display_name": "Python 3 (ipykernel)",
   "language": "python",
   "name": "python3"
  },
  "language_info": {
   "codemirror_mode": {
    "name": "ipython",
    "version": 3
   },
   "file_extension": ".py",
   "mimetype": "text/x-python",
   "name": "python",
   "nbconvert_exporter": "python",
   "pygments_lexer": "ipython3",
   "version": "3.9.1"
  }
 },
 "nbformat": 4,
 "nbformat_minor": 4
}
